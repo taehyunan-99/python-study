{
 "cells": [
  {
   "cell_type": "markdown",
   "id": "811f7c8c",
   "metadata": {},
   "source": [
    "## 11. while문\n",
    "- 조건이 True인 동안 코드를 반복하는 반복문\n",
    "- 조건이 False면 반복을 멈춤\n",
    "    - 반복 횟수가 정해지지 않았을 때 사용"
   ]
  },
  {
   "cell_type": "code",
   "execution_count": null,
   "id": "db6315f1",
   "metadata": {},
   "outputs": [],
   "source": [
    "# while문 기본 문법\n",
    "# 조건 : 참/거짓을 구분할 수 있는 문장 -> True, False를 반환하는 문장이 와야 함\n",
    "\n",
    "# while 조건:\n",
    "    # 반복할 코드"
   ]
  },
  {
   "cell_type": "code",
   "execution_count": null,
   "id": "bd7b1fed",
   "metadata": {},
   "outputs": [],
   "source": [
    "# 무한루프\n",
    "# 사용시 주의해야 함\n",
    "# 반드시 종료조건이 있어야 함\n",
    "while True:\n",
    "    print(\"반복중\")"
   ]
  },
  {
   "cell_type": "code",
   "execution_count": null,
   "id": "67f8236e",
   "metadata": {},
   "outputs": [],
   "source": [
    "# 예제 1\n",
    "\n",
    "light = \"green\"\n",
    "\n",
    "while light == \"green\":\n",
    "    print(\"계속 가세요\")\n",
    "    light = input(\"신호등의 신호를 입력해주세요(green/yellow/red)\")\n",
    "print(\"정지\")"
   ]
  },
  {
   "cell_type": "code",
   "execution_count": null,
   "id": "a19155cc",
   "metadata": {},
   "outputs": [],
   "source": [
    "# 예제 2 : 별도의 반복 변수를 정의\n",
    "# 반복 변수를 갱신하지 않을시 무한루프에 빠지게 됨\n",
    "i = 0\n",
    "\n",
    "while i < 5:\n",
    "    print(i, \"반복\")\n",
    "    i += 1 # 반복 변수 갱신\n",
    "print(\"반복 종료\")\n",
    "# 0 반복\n",
    "# 1 반복\n",
    "# 2 반복\n",
    "# 3 반복\n",
    "# 4 반복\n",
    "# 반복 종료"
   ]
  },
  {
   "cell_type": "code",
   "execution_count": null,
   "id": "1a821dd4",
   "metadata": {},
   "outputs": [],
   "source": [
    "# 실습 1 while문 연습문제\n",
    "\n",
    "# 1. 비밀 코드 맞추기\n",
    "\n",
    "secret_code = \"codingonre3\"\n",
    "user_code = input(\"비밀 코드를 입력하세요 :\")\n",
    "\n",
    "while user_code != secret_code:\n",
    "    print(f\"비밀 코드를 입력하세요 : {user_code}\")\n",
    "    print(\"비밀 코드가 틀렸습니다. 다시 시도하세요.\")\n",
    "    user_code = input(\"비밀 코드를 입력하세요 :\")\n",
    "print(\"입장이 허용되었습니다!\")"
   ]
  },
  {
   "cell_type": "code",
   "execution_count": null,
   "id": "b53cfc78",
   "metadata": {},
   "outputs": [],
   "source": [
    "# 2. 업다운 게임\n",
    "\n",
    "import random\n",
    "num = random.randint(1,100)\n",
    "user_num = int(input(\"1~100 사이의 수를 입력해주세요 :\"))\n",
    "count = 1\n",
    "\n",
    "while user_num != num:\n",
    "    if user_num < num:\n",
    "        print(f\"{user_num}보다는 커요\")\n",
    "    else:\n",
    "        print(f\"{user_num}보다는 작아요\")\n",
    "    user_num = int(input(\"1~100 사이의 수를 입력해주세요 :\"))\n",
    "    count += 1\n",
    "print(f\"{count}번 만에 정답을 맞췄습니다!\")"
   ]
  },
  {
   "cell_type": "code",
   "execution_count": null,
   "id": "2d642ddd",
   "metadata": {},
   "outputs": [],
   "source": [
    "# 루프 제어문\n",
    "\n",
    "# 패턴 1\n",
    "# while True:\n",
    "\n",
    "# 패턴 2\n",
    "x = True\n",
    "while x:\n",
    "    if 조건1:\n",
    "        x = False\n",
    "\n",
    "# break\n",
    "# 일반적으로 while의 조건에 따라 while문을 종료시키면 실행블록이 끝까지 실행 된후 종료되지만\n",
    "# break로 종료를 시키면, 이후 실행블록의 코드는 무시되고 바로 반복문을 탈출함\n",
    "\n",
    "while True:\n",
    "    if 조건:\n",
    "        break\n"
   ]
  },
  {
   "cell_type": "code",
   "execution_count": null,
   "id": "4120e2a5",
   "metadata": {},
   "outputs": [],
   "source": [
    "# 예제 1\n",
    "\n",
    "i = 0\n",
    "\n",
    "while True:\n",
    "    print(i, \"실행\")\n",
    "    if i > 5:\n",
    "        break \n",
    "    i += 1\n",
    "print(\"반복문 종료\")\n",
    "# 0 실행\n",
    "# 1 실행\n",
    "# 2 실행\n",
    "# 3 실행\n",
    "# 4 실행\n",
    "# 5 실행\n",
    "# 6 실행\n",
    "# 반복문 종료"
   ]
  },
  {
   "cell_type": "code",
   "execution_count": null,
   "id": "6241d0c0",
   "metadata": {},
   "outputs": [],
   "source": [
    "# continue\n",
    "\n",
    "i = 0\n",
    "\n",
    "while i < 5:\n",
    "    i += 1\n",
    "    if i % 2 == 0:\n",
    "        continue\n",
    "    print(i)\n",
    "print(\"반복 종료\")\n",
    "# 1\n",
    "# 3\n",
    "# 5\n",
    "# 반복 종료"
   ]
  },
  {
   "cell_type": "code",
   "execution_count": null,
   "id": "77b758b7",
   "metadata": {},
   "outputs": [],
   "source": [
    "# 실습 2. while문 연습문제\n",
    "\n",
    "# 1. 비밀코드 맞추기\n",
    "\n",
    "secret_code = \"codingonre3\"\n",
    "user_code = \"\"\n",
    "\n",
    "while True:\n",
    "    user_code = input(\"비밀 코드를 입력하세요 :\")\n",
    "    if user_code == secret_code:\n",
    "        break\n",
    "    print(\"비밀 코드가 틀렸습니다. 다시 시도하세요.\")\n",
    "print(\"입장이 허용되었습니다!\")"
   ]
  },
  {
   "cell_type": "code",
   "execution_count": null,
   "id": "388f2462",
   "metadata": {},
   "outputs": [],
   "source": [
    "# 2. 유효한 나이만 평균 내기\n",
    "\n",
    "times = 0\n",
    "sum_age = 0\n",
    "\n",
    "while True:\n",
    "    age = int(input(\"나이를 입력하세요 :\"))\n",
    "    if age > 120 or age <= 0:\n",
    "        continue\n",
    "    sum_age += age\n",
    "    times += 1\n",
    "    if times == 5:  \n",
    "        break\n",
    "print(f\"총 나이 합계는 {sum_age}, 평균은 {sum_age // times}입니다.\")"
   ]
  },
  {
   "cell_type": "code",
   "execution_count": null,
   "id": "edd34487",
   "metadata": {},
   "outputs": [],
   "source": [
    "# 중첩 while문\n",
    "\n",
    "dan = 2\n",
    "\n",
    "while dan <= 9:\n",
    "    num = 1\n",
    "    print(f\"[ {dan}단 ]\")\n",
    "    while num <= 9:\n",
    "        print(f\"{dan} x {num} = {dan * num}\")\n",
    "        num += 1\n",
    "    print(\"\")\n",
    "    dan += 1"
   ]
  },
  {
   "cell_type": "code",
   "execution_count": null,
   "id": "8c58e582",
   "metadata": {},
   "outputs": [],
   "source": [
    "# 실습 3. 중첩 while문 연습문제\n",
    "\n",
    "# 1. 로그인 시스템 구현\n",
    "\n",
    "user_id = \"coding\"\n",
    "user_pw = \"1234\"\n",
    "\n",
    "while True:\n",
    "    input_id = input(\"ID를 입력해주세요 :\")\n",
    "    if input_id != user_id:\n",
    "        print(\"ID가 존재하지 않습니다.\")\n",
    "        continue\n",
    "    while True:\n",
    "        input_pw = input(\"비밀번호를 입력해주세요 :\")\n",
    "        if input_pw != user_pw:\n",
    "            print(\"비밀번호가 틀렸습니다.\")\n",
    "            continue\n",
    "        break\n",
    "    print(\"로그인 성공\")\n",
    "    break"
   ]
  }
 ],
 "metadata": {
  "kernelspec": {
   "display_name": "python-study",
   "language": "python",
   "name": "python3"
  },
  "language_info": {
   "codemirror_mode": {
    "name": "ipython",
    "version": 3
   },
   "file_extension": ".py",
   "mimetype": "text/x-python",
   "name": "python",
   "nbconvert_exporter": "python",
   "pygments_lexer": "ipython3",
   "version": "3.13.5"
  }
 },
 "nbformat": 4,
 "nbformat_minor": 5
}
