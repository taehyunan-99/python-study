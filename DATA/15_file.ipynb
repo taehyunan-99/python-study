{
 "cells": [
  {
   "cell_type": "markdown",
   "id": "cbdbb772",
   "metadata": {},
   "source": [
    "## 파일 입출력\n",
    "- 저장장치에 저장된 파일을 읽어오거나 저장하는 작업"
   ]
  },
  {
   "cell_type": "code",
   "execution_count": null,
   "id": "5de0c3f8",
   "metadata": {},
   "outputs": [],
   "source": [
    "# 파일 열기와 닫기\n",
    "\n",
    "# 파일 열기 : open()\n",
    "# open(\"파일 경로\", mode=\"r\", encoding=\"원하는 인코딩\")\n",
    "# open으로 파일을 읽으면 '파일객체'를 반환함\n",
    "\n",
    "f = open(\"example.txt\", \"w\", encoding=\"utf-8\")\n",
    "f.write(\"입력1\\n\")\n",
    "f.write(\"입력2\")\n",
    "\n",
    "# 파일 닫기 : close()\n",
    "# 열린 파일을 닫아 시스템 자원을 해제함\n",
    "\n",
    "f.close()"
   ]
  },
  {
   "cell_type": "code",
   "execution_count": null,
   "id": "c32ba078",
   "metadata": {},
   "outputs": [],
   "source": [
    "# 파일 읽기\n",
    "# read() : 전체 내용을 한번에 읽기\n",
    "f = open(\"example.txt\", \"r\", encoding=\"utf-8\")\n",
    "content = f.read()\n",
    "print(content)\n",
    "f.close()\n",
    "# 입력1\n",
    "# 입력2"
   ]
  },
  {
   "cell_type": "code",
   "execution_count": null,
   "id": "280994ba",
   "metadata": {},
   "outputs": [],
   "source": [
    "# readline() : 한 줄씩 순차적으로 읽기\n",
    "f = open(\"example.txt\", \"r\", encoding=\"utf-8\")\n",
    "\n",
    "line1 = f.readline()\n",
    "line2 = f.readline()\n",
    "print(\"첫번째 줄 :\", line1.strip())\n",
    "print(\"두번째 줄 :\", line2)\n",
    "\n",
    "f.close()\n",
    "# 첫번째 줄 : 입력1\n",
    "# 두번째 줄 : 입력2"
   ]
  },
  {
   "cell_type": "code",
   "execution_count": null,
   "id": "9ac6d1f4",
   "metadata": {},
   "outputs": [],
   "source": [
    "# for문으로 읽기\n",
    "\n",
    "f = open(\"example.txt\", \"r\", encoding=\"utf-8\")\n",
    "\n",
    "for line in f:\n",
    "    print(line.strip())\n",
    "\n",
    "f.close()\n",
    "# 입력1\n",
    "# 입력2"
   ]
  },
  {
   "cell_type": "code",
   "execution_count": null,
   "id": "7981d1f5",
   "metadata": {},
   "outputs": [],
   "source": [
    "# readlines() : 모든 줄을 한번에 리스트로 읽기\n",
    "\n",
    "f = open(\"example.txt\", \"r\", encoding=\"utf-8\")\n",
    "\n",
    "contents = f.readlines()\n",
    "print(contents)\n",
    "\n",
    "f.close()\n",
    "# ['입력1\\n', '입력2']"
   ]
  },
  {
   "cell_type": "code",
   "execution_count": null,
   "id": "05a37db9",
   "metadata": {},
   "outputs": [],
   "source": [
    "# tell() : 현재 읽고 있는 위치(바이트)를 반환\n",
    "# 한글은 한 글자에 2~3 바이트\n",
    "\n",
    "f = open(\"example.txt\", \"r\", encoding=\"utf-8\")\n",
    "\n",
    "print(\"처음 위치 :\", f.tell())\n",
    "f.read(5)\n",
    "print(\"바이트 읽은 후 위치 :\", f.tell())\n",
    "\n",
    "f.close()\n",
    "# 처음 위치 : 0\n",
    "# 바이트 읽은 후 위치 : 12"
   ]
  },
  {
   "cell_type": "code",
   "execution_count": null,
   "id": "6ef4e49e",
   "metadata": {},
   "outputs": [],
   "source": [
    "# seek() : 파일 포인터 위치를 이동\n",
    "\n",
    "f = open(\"example.txt\", \"r\", encoding=\"utf-8\")\n",
    "\n",
    "print(f.read(2))\n",
    "f.seek(0)\n",
    "print(f.read())\n",
    "\n",
    "f.close()\n",
    "# 입력\n",
    "# 입력1\n",
    "# 입력2"
   ]
  },
  {
   "cell_type": "code",
   "execution_count": null,
   "id": "dacfd183",
   "metadata": {},
   "outputs": [],
   "source": [
    "# 파일 쓰기\n",
    "# 파일 쓰기 모드 : 'w' / 'a'\n",
    "# w모드 : 덮어쓰기\n",
    "\n",
    "f = open(\"example.txt\", \"w\", encoding=\"utf-8\")\n",
    "\n",
    "f.write(\"파일 쓰기 입력 1\\n\")\n",
    "f.write(\"파일 쓰기 입력 2\")\n",
    "\n",
    "f.close()"
   ]
  },
  {
   "cell_type": "code",
   "execution_count": null,
   "id": "6234bb9d",
   "metadata": {},
   "outputs": [],
   "source": [
    "# a모드 : 추가쓰기\n",
    "\n",
    "f = open(\"example.txt\", \"a\", encoding=\"utf-8\")\n",
    "\n",
    "f.write(\"\\n추가한 내용입니다.\")\n",
    "\n",
    "f.close()"
   ]
  },
  {
   "cell_type": "code",
   "execution_count": null,
   "id": "7b78a091",
   "metadata": {},
   "outputs": [],
   "source": [
    "# with문\n",
    "# 파일 입출력시에 자동으로 close()를 호출해주는 구문\n",
    "\n",
    "# 파일 쓰기\n",
    "with open(\"with_example.txt\", \"w\", encoding=\"utf-8\") as f1:\n",
    "    f1.write(\"with문으로 작성한 파일입니다.\\n\")\n",
    "    f1.write(\"안녕하세요.\")"
   ]
  },
  {
   "cell_type": "code",
   "execution_count": null,
   "id": "c71b137d",
   "metadata": {},
   "outputs": [],
   "source": [
    "# 파일 읽기\n",
    "with open(\"with_example.txt\", \"r\", encoding=\"utf-8\") as f2:\n",
    "    data = f2.read()\n",
    "    print(data)\n",
    "# with문으로 작성한 파일이에요.\n",
    "# 안녕하세요."
   ]
  },
  {
   "cell_type": "code",
   "execution_count": null,
   "id": "3ab4ad1a",
   "metadata": {},
   "outputs": [],
   "source": [
    "# 예제 1. 파일에서 랜덤 추출하기\n",
    "with open(\"words.txt\", \"w\", encoding=\"utf-8\") as f1:\n",
    "    words = [\"apple\", \"ball\", \"cat\", \"dog\", \"egg\", \"fish\", \"game\", \"hand\", \"ice\", \"jump\", \"kite\", \"lamp\", \"moon\", \"nose\", \"open\", \"pen\", \"queen\", \"rain\", \"sun\", \"tree\"]\n",
    "\n",
    "    for i in words:\n",
    "        f1.write(i + \"\\n\")"
   ]
  },
  {
   "cell_type": "code",
   "execution_count": null,
   "id": "26b112f9",
   "metadata": {},
   "outputs": [],
   "source": [
    "import random\n",
    "\n",
    "with open(\"words.txt\", \"r\", encoding=\"utf-8\") as f2:\n",
    "    data = f2.readlines()\n",
    "    for i in range(5):\n",
    "        word = random.choice(data).strip()\n",
    "        print(word)\n",
    "# cat\n",
    "# ice\n",
    "# sun\n",
    "# nose\n",
    "# kite"
   ]
  },
  {
   "cell_type": "code",
   "execution_count": null,
   "id": "5b8002e8",
   "metadata": {},
   "outputs": [],
   "source": [
    "# 예제 2. 입력 받아 파일 쓰기\n",
    "\n",
    "with open(\"with_example.txt\", \"a\", encoding=\"utf-8\") as f3:\n",
    "    while True:\n",
    "        text = input(\"저장할 내용을 입력해주세요 :\")\n",
    "        if text == \"z\":\n",
    "            break\n",
    "        f3.write(text + \"\\n\")"
   ]
  },
  {
   "cell_type": "code",
   "execution_count": null,
   "id": "96330264",
   "metadata": {},
   "outputs": [],
   "source": [
    "# 실습 1. 회원 명부 작성하기\n",
    "\n",
    "with open(\"member.txt\", \"w\", encoding=\"utf-8\") as f1:\n",
    "    for i in range(3):\n",
    "        user_id = input(\"아이디를 입력하세요 :\")\n",
    "        user_pw = input(\"비밀번호를 입력하세요 :\")\n",
    "        \n",
    "        f1.write(user_id + \"\\n\")\n",
    "        f1.write(user_pw + \"\\n\")\n",
    "        \n",
    "with open(\"member.txt\", \"r\", encoding=\"utf-8\") as f1:\n",
    "    print(\"[회원 명부]\")\n",
    "    print(f1.read())"
   ]
  },
  {
   "cell_type": "code",
   "execution_count": 72,
   "id": "b3b1c667",
   "metadata": {},
   "outputs": [
    {
     "name": "stdout",
     "output_type": "stream",
     "text": [
      "로그인 성공\n"
     ]
    }
   ],
   "source": [
    "# # 실습 2. 회원 명부를 이용한 로그인 기능\n",
    "\n",
    "login = False\n",
    "login_id = input(\"아이디를 입력하세요 :\")\n",
    "login_pw = input(\"비밀번호를 입력하세요 :\")\n",
    "\n",
    "with open(\"member.txt\", \"r\", encoding=\"utf-8\") as f:\n",
    "    data = f.readlines()\n",
    "    for i in range(len(data)):\n",
    "        if data[i].strip() == login_id:\n",
    "            if data[i+1].strip() == login_pw:\n",
    "                login = True\n",
    "                print(\"로그인 성공\")\n",
    "                break\n",
    "            else:\n",
    "                print(\"비밀번호가 틀렸습니다.\")\n",
    "\n",
    "with open(\"member_tel.txt\", \"r\", encoding=\"utf-8\") as f1:\n",
    "    tel_list = [line.strip().split(\"/\") for line in f1.readlines()]\n",
    "    tel_dict = dict(tel_list)\n",
    "\n",
    "if login:\n",
    "    with open(\"member_tel.txt\", \"w\", encoding=\"utf-8\") as f2:\n",
    "        user_tel = input(\"전화번호를 입력하세요 :\")\n",
    "        tel_dict[login_id] = user_tel\n",
    "        for key, velue in tel_dict.items():\n",
    "            f2.write(f\"{key}/{velue}\\n\")"
   ]
  },
  {
   "cell_type": "code",
   "execution_count": null,
   "id": "0478e631",
   "metadata": {},
   "outputs": [],
   "source": [
    "# 실습 3. 로그인 성공 시 전화번호 저장하기\n",
    "login = False\n",
    "login_id = input(\"아이디를 입력하세요 :\")\n",
    "login_pw = input(\"비밀번호를 입력하세요 :\")\n",
    "\n",
    "with open(\"member.txt\", \"r\", encoding=\"utf-8\") as f:\n",
    "    data = f.readlines()\n",
    "    for i in range(len(data)):\n",
    "        if data[i].strip() == login_id:\n",
    "            if data[i+1].strip() == login_pw:\n",
    "                login = True\n",
    "                print(\"로그인 성공\")\n",
    "                break\n",
    "            else:\n",
    "                print(\"비밀번호가 틀렸습니다.\")\n",
    "\n",
    "with open(\"member_tel.txt\", \"r\", encoding=\"utf-8\") as f1:\n",
    "    tel_list = [line.strip().split(\"/\") for line in f1.readlines()]\n",
    "    tel_dict = dict(tel_list)\n",
    "\n",
    "\n",
    "\n",
    "if login == True:\n",
    "    user_tel = input(\"전화번호를 입력하세요 :\")\n",
    "    if len(tel_dict) > 0:\n",
    "        for key, velue in tel_dict:\n",
    "            if login_id == key:\n",
    "                i[1] = user_tel\n",
    "                break\n",
    "    tel_dict[login_id] = user_tel\n",
    "\n",
    "# with open(\"member_tel.txt\", \"w\", encoding=\"utf-8\") as f2:\n",
    "\n"
   ]
  },
  {
   "cell_type": "code",
   "execution_count": null,
   "id": "cd5a1287",
   "metadata": {},
   "outputs": [],
   "source": [
    "# 바이너리 파일 읽기\n",
    "with open(\"./images/dog.jpg\", \"rb\") as f:\n",
    "    img = f.read()\n",
    "    print(img)\n",
    "\n",
    "# 바이너리 파일 쓰기\n",
    "with open(\"./output/dog_copy.jpg\", \"wb\") as f:\n",
    "    f.write(img)"
   ]
  }
 ],
 "metadata": {
  "kernelspec": {
   "display_name": "Python 3",
   "language": "python",
   "name": "python3"
  },
  "language_info": {
   "codemirror_mode": {
    "name": "ipython",
    "version": 3
   },
   "file_extension": ".py",
   "mimetype": "text/x-python",
   "name": "python",
   "nbconvert_exporter": "python",
   "pygments_lexer": "ipython3",
   "version": "3.13.4"
  }
 },
 "nbformat": 4,
 "nbformat_minor": 5
}
