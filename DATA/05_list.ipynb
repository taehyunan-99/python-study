{
 "cells": [
  {
   "cell_type": "markdown",
   "id": "9e9495f1",
   "metadata": {},
   "source": [
    "## 05. 리스트 List\n",
    "- 여러 값들을 순서대로 저장할 수 있는 자료형(시퀀스)\n",
    "- 인덱스(index) = 자료에 부여된 순서 번호 -> 인덱스로 각 원소에 접근 가능\n",
    "- 가변 자료형(mutable) = 원소의 추가/수정/삭제가 자유로움"
   ]
  },
  {
   "cell_type": "code",
   "execution_count": null,
   "id": "a2d08427",
   "metadata": {},
   "outputs": [],
   "source": [
    "# 리스트 만들기\n",
    "\n",
    "# 리스트는 [] 로 표현하고 ','로 구분\n",
    "리스트1 = [\"안녕하세요\", \"반갑습니다\", \"어서오세요\"]\n",
    "리스트2 = [10, \"10\", 10.0, [1,2,3,4]]\n",
    "\n",
    "# 리스트 생성함수\n",
    "리스트3 = list()\n",
    "\n",
    "# 이터러블을 리스트로 변환\n",
    "리스트4 = list(\"CodingOn\")\n",
    "print(리스트4)"
   ]
  },
  {
   "cell_type": "code",
   "execution_count": null,
   "id": "2fb0821c",
   "metadata": {},
   "outputs": [],
   "source": [
    "# 인덱싱과 슬라이싱\n",
    "\n",
    "# 인덱스 : 원소의 순서 번호, 0번부터 출발함\n",
    "# 인덱싱 : 인덱스를 통해 값(원소)을 조회하는 것\n",
    "# 음수 인덱스 : 뒤에서부터 자료에 접근\n",
    "리스트1 = [10, 20, 30, 40, 50]\n",
    "print(리스트1[0])\n",
    "print(리스트1[2])\n",
    "print(리스트1[-1])\n",
    "\n",
    "# 인덱싱으로 원소에 접급해 값 수정\n",
    "리스트1[3] = 4\n",
    "print(리스트1[3])"
   ]
  },
  {
   "cell_type": "code",
   "execution_count": null,
   "id": "f2e1afb9",
   "metadata": {},
   "outputs": [],
   "source": [
    "# 문자열 인덱싱\n",
    "\n",
    "리스트1 = \"CodingOn\"\n",
    "print(리스트1[2])\n",
    "print(리스트1[-2])\n",
    "\n",
    "# 문자열은 '불변 자료형'이기 때문에, 수정 불가\n",
    "# 리스트1[0] = \"N\""
   ]
  },
  {
   "cell_type": "code",
   "execution_count": null,
   "id": "ba871972",
   "metadata": {},
   "outputs": [],
   "source": [
    "# 슬라이싱\n",
    "\n",
    "# 시퀀스에서 특정 구간을 잘라내서 추출하는 방법\n",
    "# 시퀀스[시작:끝:간격]\n",
    "\n",
    "num = [10,20,30,40,50,60,70,80,90,100]\n",
    "\n",
    "# print(num[1:4])\n",
    "\n",
    "# :의 뒤를 생략하면 끝까지\n",
    "# print(num[3:])\n",
    "\n",
    "# :의 앞을 생략하면 처음부터\n",
    "# print(num[:4])\n",
    "\n",
    "# 원본은 변경x -> 새로운 시퀀스 생성\n",
    "# num2 = (num[:4])\n",
    "# print(num2)\n",
    "\n",
    "# 간격 설정\n",
    "# print(num[1:10:2]) #[1::2]로 생략 가능\n",
    "\n",
    "# 같은 리스트를 복제 (: 앞뒤 모두 생략)\n",
    "# print(num[:])\n",
    "\n",
    "# 뒤집어서 복제\n",
    "# num[::-1]\n",
    "\n",
    "# 일부 구간 수정하기\n",
    "# num[2:4] = [300,400]\n",
    "# print(num)"
   ]
  },
  {
   "cell_type": "code",
   "execution_count": null,
   "id": "36cf921d",
   "metadata": {},
   "outputs": [],
   "source": [
    "# 실습 1 \n",
    "\n",
    "# 1 첫 번째 요소와 마지막 요소 출력하기\n",
    "\n",
    "nums = [10, 20, 30, 40, 50]\n",
    "print(nums[0])\n",
    "print(nums[-1])"
   ]
  },
  {
   "cell_type": "code",
   "execution_count": null,
   "id": "abdef9c5",
   "metadata": {},
   "outputs": [],
   "source": [
    "# 2 가운데 세 개의 요소 추출하기\n",
    "\n",
    "nums = [100, 200, 300, 400, 500, 600, 700]\n",
    "\n",
    "print(nums[2:-2])"
   ]
  },
  {
   "cell_type": "code",
   "execution_count": null,
   "id": "3a6010b6",
   "metadata": {},
   "outputs": [],
   "source": [
    "# 3 리스트의 원소 두배하기\n",
    "\n",
    "nums = [1, 2, 3, 4, 5]\n",
    "\n",
    "nums[0] *= 2\n",
    "nums[1] *= 2\n",
    "nums[2] *= 2\n",
    "nums[3] *= 2\n",
    "nums[4] *= 2\n",
    "\n",
    "print(nums)"
   ]
  },
  {
   "cell_type": "code",
   "execution_count": null,
   "id": "dbfe65fe",
   "metadata": {},
   "outputs": [],
   "source": [
    "# 4 리스트 뒤집어서 출력하기\n",
    "\n",
    "items = [\"a\", \"b\", \"c\", \"d\", \"e\"]\n",
    "\n",
    "print(items[::-1])"
   ]
  },
  {
   "cell_type": "code",
   "execution_count": null,
   "id": "c664a435",
   "metadata": {},
   "outputs": [],
   "source": [
    "# 5 짝수 인덱스 요소만 출력하기\n",
    "\n",
    "data = [\"zero\", \"one\", \"two\", \"three\", \"four\", \"five\"]\n",
    "\n",
    "print(data[::2])"
   ]
  },
  {
   "cell_type": "code",
   "execution_count": null,
   "id": "323ff20f",
   "metadata": {},
   "outputs": [],
   "source": [
    "# 6 슬라이싱으로 리스트 수정하기\n",
    "\n",
    "movies = [\"인셉션\", \"인터스텔라\", \"어벤져스\", \"라라랜드\", \"기생충\"]\n",
    "\n",
    "movies[2:4] = [\"매트릭스\", \"타이타닉\"]\n",
    "\n",
    "print(movies)"
   ]
  },
  {
   "cell_type": "code",
   "execution_count": null,
   "id": "d59c9fe0",
   "metadata": {},
   "outputs": [],
   "source": [
    "# 7 특정 규칙에 따라 요소 추출\n",
    "\n",
    "subjects = [\"국어\", \"수학\", \"영어\", \"물리\", \"화학\", \"생물\", \"역사\", \"지구과학\", \"윤리\"]\n",
    "\n",
    "print(subjects[3::2])"
   ]
  },
  {
   "cell_type": "code",
   "execution_count": null,
   "id": "8bfdb208",
   "metadata": {},
   "outputs": [],
   "source": [
    "# 8 리스트를 3개 구간으로 나누어 역순 병합\n",
    "\n",
    "data = [\"a\", \"b\", \"c\", \"d\", \"e\", \"f\", \"g\", \"h\", \"i\"]\n",
    "\n",
    "data_1 = data[0:3]\n",
    "data_2 = data[3:6]\n",
    "data_3 = data[6:]\n",
    "\n",
    "print(data_1[::-1])\n",
    "print(data_2[::-1])\n",
    "print(data_3[::-1])"
   ]
  },
  {
   "cell_type": "code",
   "execution_count": null,
   "id": "fa4d1ad1",
   "metadata": {},
   "outputs": [],
   "source": [
    "# 일정 구간 역순 하는 방법\n",
    "\n",
    "data = [\"a\", \"b\", \"c\", \"d\", \"e\", \"f\", \"g\", \"h\", \"i\"]\n",
    "\n",
    "print(data[0:3][::-1])\n",
    "print(data[3:6][::-1])\n",
    "print(data[6:9][::-1])"
   ]
  },
  {
   "cell_type": "code",
   "execution_count": null,
   "id": "c58d9e33",
   "metadata": {},
   "outputs": [],
   "source": [
    "# 범위에서 벗어난 인덱스를 입력했을 때 -> index error\n",
    "\n",
    "list = [1, 2, 3, 4]\n",
    "\n",
    "print(list[4])"
   ]
  },
  {
   "cell_type": "code",
   "execution_count": null,
   "id": "475dd064",
   "metadata": {},
   "outputs": [],
   "source": [
    "# 슬라이싱 할 때 주의사항\n",
    "\n",
    "list = [1, 2, 3, 4, 5]\n",
    "\n",
    "# step에 양수를 입력하고, start에서 end를 감소시키면 -> 빈 리스트 반환\n",
    "print(list[4:1:2])\n",
    "\n",
    "# step에 음수를 입력하고, start에서 end를 증가시키면 -> 빈 리스트 반환\n",
    "print(list[1:3:-1])"
   ]
  },
  {
   "cell_type": "code",
   "execution_count": null,
   "id": "0c1d4c83",
   "metadata": {},
   "outputs": [],
   "source": [
    "# 리스트 연산\n",
    "\n",
    "# del 키워드 : 범용 삭제 키워드, 리스트 외에도 딕셔너리 등에 사용 가능\n",
    "# 많이 사용하지는 않음\n",
    "\n",
    "my_list = [1, 2, 3, 4, 5]\n",
    "\n",
    "# 가변 자료형만 가능\n",
    "# 3 삭제\n",
    "del my_list[2]\n",
    "\n",
    "# 2, 4 \n",
    "del my_list[1:3]\n",
    "\n",
    "# 리스트 삭제\n",
    "# 가변 / 불변 자료형 모두 가능 (객체 자체를 삭제하기 때문)\n",
    "del my_list\n",
    "\n",
    "print(my_list)"
   ]
  },
  {
   "cell_type": "code",
   "execution_count": null,
   "id": "97fd9e54",
   "metadata": {},
   "outputs": [],
   "source": [
    "# 리스트 연결(+)\n",
    "\n",
    "my_list1 = [\"a\", \"b\", \"c\"]\n",
    "my_list2 = [\"d\", \"e\", \"f\"]\n",
    "\n",
    "# 원본 대상은 변경되지 않고 새로운 리스트를 반환\n",
    "new_list = my_list1 + my_list2\n",
    "\n",
    "print(my_list1, my_list2, new_list, sep=\" / \")"
   ]
  },
  {
   "cell_type": "code",
   "execution_count": null,
   "id": "c129cd94",
   "metadata": {},
   "outputs": [],
   "source": [
    "# 리스트 반복(*)\n",
    "\n",
    "my_list = [\"a\", \"b\", \"c\"]\n",
    "\n",
    "# 리스트 * 정수\n",
    "my_list * 3\n",
    "\n",
    "# 원본 대상은 변경되지 않고 새로운 리스트를 반환\n",
    "new_list = my_list * 3\n",
    "\n",
    "print(my_list, new_list, sep=\" / \")"
   ]
  },
  {
   "cell_type": "code",
   "execution_count": null,
   "id": "03e9ae92",
   "metadata": {},
   "outputs": [],
   "source": [
    "# 원소의 포함 여부를 검사 (in, not in)\n",
    "\n",
    "fruits = [\"토마토\", \"사과\", \"포도\", \"수박\", \"바나나\"]\n",
    "\n",
    "print(\"포도\" in fruits)\n",
    "print(\"참외\" not in fruits)\n",
    "\n",
    "# 조건문과 활용\n",
    "\n",
    "if \"참외\" not in fruits:\n",
    "    print(\"참외는 없습니다.\")\n",
    "else:\n",
    "    print(\"참외는 있습니다\")"
   ]
  },
  {
   "cell_type": "code",
   "execution_count": null,
   "id": "fb3b1c59",
   "metadata": {},
   "outputs": [],
   "source": [
    "# 실습 2 리스트 연산 복습문제\n",
    "\n",
    "# 1 부분 삭제 후 연결\n",
    "\n",
    "fruits = [\"apple\", \"banana\", \"cherry\", \"grape\", \"watermelon\", \"strawberry\"]\n",
    "\n",
    "del fruits[1:4]\n",
    "\n",
    "print(fruits)"
   ]
  },
  {
   "cell_type": "code",
   "execution_count": null,
   "id": "736a314c",
   "metadata": {},
   "outputs": [],
   "source": [
    "# 2 반복 리스트 내부 요소 삭제\n",
    "\n",
    "letters = [\"A\", \"B\"]\n",
    "\n",
    "new_letters = letters * 3\n",
    "del new_letters[2]\n",
    "\n",
    "print(new_letters)"
   ]
  },
  {
   "cell_type": "code",
   "execution_count": null,
   "id": "37281909",
   "metadata": {},
   "outputs": [],
   "source": [
    "# 리스트 주요 메서드 (Method) = 기능\n",
    "\n",
    "num = [1, 2, 3, 4, 5, 6, 7, 8, 9, 10]\n",
    "\n",
    "# 1(추가 및 삭제). len() 함수 : 시퀀스의 길이(요소의 개수)를 반환\n",
    "#   자주 사용\n",
    "\n",
    "print(len(\"CodingOn\"))\n",
    "print(len(num))\n",
    "\n",
    "# 8\n",
    "# 10"
   ]
  },
  {
   "cell_type": "code",
   "execution_count": null,
   "id": "13cfd5f2",
   "metadata": {},
   "outputs": [],
   "source": [
    "# 2(추가 및 삭제). append(X) : 리스트 끝에 요소 추가\n",
    "# 리스트에 포함되어있는 메서드\n",
    "\n",
    "num = [1, 2, 3, 4, 5]\n",
    "\n",
    "num.append(6)\n",
    "\n",
    "print(num)\n",
    "\n",
    "# [1, 2, 3, 4, 5, 6]"
   ]
  },
  {
   "cell_type": "code",
   "execution_count": null,
   "id": "51a3cc64",
   "metadata": {},
   "outputs": [],
   "source": [
    "# 3(추가 및 삭제). insert(index, X) : 지정한 인덱스에 요소를 삽입 * index = idx로 줄여서 사용 가능\n",
    "\n",
    "num = [1, 2, 3, 4, 5]\n",
    "\n",
    "num.insert(2, 2.5)\n",
    "num.insert(4, 3.5)\n",
    "num.insert(0, 0)\n",
    "\n",
    "print(num)\n",
    "\n",
    "# [0, 1, 2, 2.5, 3, 3.5, 4, 5]"
   ]
  },
  {
   "cell_type": "code",
   "execution_count": null,
   "id": "e13e6e6a",
   "metadata": {},
   "outputs": [],
   "source": [
    "# 4(추가 및 삭제). remove(X) : 특정 값(X)를 삭제\n",
    "# 가장 처음 발견된 해당 값(X)를 삭제\n",
    "\n",
    "num = [0, 1, 2, 2.5, 3, 2.5, 3.5, 4, 5]\n",
    "\n",
    "num.remove(2.5)\n",
    "num.remove(3.5)\n",
    "\n",
    "print(num)\n",
    "\n",
    "# [0, 1, 2, 3, 2.5, 4, 5]"
   ]
  },
  {
   "cell_type": "code",
   "execution_count": null,
   "id": "4e797784",
   "metadata": {},
   "outputs": [],
   "source": [
    "# 5(추가 및 삭제). pop(idx) : 인덱스로 삭제\n",
    "# 인덱스를 지정하지 않으면 마지막 요소를 삭제\n",
    "# 삭제한 요소를 반환\n",
    "\n",
    "num = [0, 1, 2, 3, 2.5, 4, 5]\n",
    "\n",
    "a = num.pop(4)\n",
    "b = num.pop()\n",
    "\n",
    "print(num)\n",
    "print(a, b)\n",
    "\n",
    "# [0, 1, 2, 3, 4]\n",
    "# 2.5 5"
   ]
  },
  {
   "cell_type": "code",
   "execution_count": null,
   "id": "c45a8c26",
   "metadata": {},
   "outputs": [],
   "source": [
    "# 6(추가 및 삭제). extend(iterable) : 리스트 끝에 여러 요소 추가\n",
    "\n",
    "fruits = [\"사과\", \"수박\", \"포도\"]\n",
    "\n",
    "fruits.extend([\"배\", \"참외\"])\n",
    "fruits.extend((\"토마토\", \"키위\")) # 튜플 추가\n",
    "fruits.extend(\"딸기\") # 문자열 추가\n",
    "\n",
    "print(fruits)\n",
    "\n",
    "# ['사과', '수박', '포도', '배', '참외', '토마토', '키위', '딸', '기']"
   ]
  },
  {
   "cell_type": "code",
   "execution_count": null,
   "id": "8e8699d9",
   "metadata": {},
   "outputs": [],
   "source": [
    "# 7(정렬). 리스트 정렬 : sort(), sorted()\n",
    "\n",
    "num = [3,2,1,4]\n",
    "\n",
    "# 리스트.sort() : 원본 리스트를 정렬\n",
    "\n",
    "# 오름차순 : 기본\n",
    "num.sort()\n",
    "print(num)\n",
    "# 내림차순 : reverse 사용\n",
    "num.sort(reverse=True)\n",
    "print(num)\n",
    "\n",
    "# sorted(리스트) : 정렬된 새로운 리스트를 반환\n",
    "\n",
    "num2 = [50, 52, 53, 51]\n",
    "# 원본 리스트 유지\n",
    "sorted(num2)\n",
    "print(num2)\n",
    "# 새로운 리스트로 저장\n",
    "new_num = sorted(num2)\n",
    "print(new_num)\n",
    "# 내림차순\n",
    "new_num_desc = sorted(num2, reverse=True)\n",
    "print(new_num_desc)\n",
    "\n",
    "# [1, 2, 3, 4]\n",
    "# [4, 3, 2, 1]\n",
    "# [50, 52, 53, 51]\n",
    "# [50, 51, 52, 53]\n",
    "# [53, 52, 51, 50]"
   ]
  },
  {
   "cell_type": "code",
   "execution_count": null,
   "id": "2527fde8",
   "metadata": {},
   "outputs": [],
   "source": [
    "# 8(정렬). 리스트 뒤집기 : reverse(), reversed()\n",
    "\n",
    "# 리스트.reverse() : 원본 리스트를 뒤집음\n",
    "\n",
    "num3 = [1,2,3,4,5]\n",
    "\n",
    "num3.reverse()\n",
    "print(num3)\n",
    "num3.reverse()\n",
    "print(num3)\n",
    "\n",
    "# reversed(리스트) : 새로운 리스트를 반환\n",
    "# 새로운 변수로 저장할 시 list() 함수로 감싸줘야 함\n",
    "\n",
    "num4 = [11,22,33,44,55]\n",
    "\n",
    "num4_rev = list(reversed(num4))\n",
    "print(num4_rev)\n",
    "\n",
    "# [5, 4, 3, 2, 1]\n",
    "# [1, 2, 3, 4, 5]\n",
    "# [55, 44, 33, 22, 11]"
   ]
  },
  {
   "cell_type": "code",
   "execution_count": null,
   "id": "b3a38673",
   "metadata": {},
   "outputs": [],
   "source": [
    "# 9(통계). count(X) : 값의 개수 새기\n",
    "\n",
    "num = [1,1,2,2,2,2,3,3,5,5,5,6,6]\n",
    "\n",
    "print(num.count(2))\n",
    "\n",
    "# 4"
   ]
  },
  {
   "cell_type": "code",
   "execution_count": null,
   "id": "e690d787",
   "metadata": {},
   "outputs": [],
   "source": [
    "# 10(통계). min(리스트), max(리스트) 함수 : 최소값 / 최대값 찾기\n",
    "\n",
    "num2 = [4, 100, 10000, 12552, 46, 24]\n",
    "\n",
    "print(min(num2))\n",
    "print(max(num2))\n",
    "\n",
    "# 4\n",
    "# 12552"
   ]
  },
  {
   "cell_type": "code",
   "execution_count": null,
   "id": "1e9ed466",
   "metadata": {},
   "outputs": [],
   "source": [
    "# 11(통계). sum(리스트) : 요소들의 합 구하기\n",
    "\n",
    "num2 = [4, 100, 10000, 12552, 46, 24]\n",
    "\n",
    "print(sum(num2))\n",
    "\n",
    "# 22726"
   ]
  },
  {
   "cell_type": "code",
   "execution_count": null,
   "id": "e04e1d64",
   "metadata": {},
   "outputs": [],
   "source": [
    "# 실습3 리스트 주요 메서드 복습 문제\n",
    "\n",
    "# 1. 기차 탑승 시뮬레이션\n",
    "\n",
    "train = []\n",
    "\n",
    "# 철수, 영희 탑승\n",
    "train.append(\"철수\")\n",
    "train.append(\"영희\")\n",
    "\n",
    "# 민수, 지훈 탑승\n",
    "train.append(\"민수\")\n",
    "train.append(\"지훈\")\n",
    "\n",
    "# 여러 요소들 한번에 추가 방법\n",
    "\n",
    "# train.extend([\"민수\", \"지훈\"])\n",
    "# train += [\"민수\", \"지훈\"]\n",
    "\n",
    "# 영희 하차\n",
    "train.remove(\"영희\")\n",
    "\n",
    "# 수진 1번 자리에 탑승\n",
    "train.insert(0, \"수진\")\n",
    "\n",
    "# 민수 내리고, 기차 안의 순서 뒤집기\n",
    "train.remove(\"민수\")\n",
    "train.reverse()\n",
    "\n",
    "print(train)\n",
    "\n",
    "# ['지훈', '철수', '수진']"
   ]
  },
  {
   "cell_type": "code",
   "execution_count": null,
   "id": "735f26ca",
   "metadata": {},
   "outputs": [],
   "source": [
    "# 2. 숫자 처리 게임\n",
    "\n",
    "cards = [5, 3, 7]\n",
    "\n",
    "# 4, 9 추가\n",
    "cards.append(4)\n",
    "cards.append(9)\n",
    "\n",
    "# 가장 큰 수와 가장 작은 수 구하기\n",
    "print(\"가장 큰 수 :\", max(cards))\n",
    "print(\"가장 작은 수 :\", min(cards))\n",
    "\n",
    "# 총합 출력\n",
    "print(\"총합 :\", sum(cards))\n",
    "\n",
    "# 리스트 정렬 이후 마지막 숫자 제거\n",
    "cards.sort()\n",
    "cards.pop()\n",
    "\n",
    "print(\"최종 리스트 :\", cards)\n",
    "\n",
    "# 가장 큰 수 : 9\n",
    "# 가장 작은 수 : 3\n",
    "# 총합 : 28\n",
    "# 최종 리스트 : [3, 4, 5, 7]"
   ]
  }
 ],
 "metadata": {
  "kernelspec": {
   "display_name": "python-study",
   "language": "python",
   "name": "python3"
  },
  "language_info": {
   "codemirror_mode": {
    "name": "ipython",
    "version": 3
   },
   "file_extension": ".py",
   "mimetype": "text/x-python",
   "name": "python",
   "nbconvert_exporter": "python",
   "pygments_lexer": "ipython3",
   "version": "3.13.5"
  }
 },
 "nbformat": 4,
 "nbformat_minor": 5
}
