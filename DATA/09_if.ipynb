{
 "cells": [
  {
   "cell_type": "markdown",
   "id": "4e9201e5",
   "metadata": {},
   "source": [
    "## 09. 조건문 (if)\n",
    "- 조건에 따라 프로그램의 실행 흐름을 분기시키는 제어문\n",
    "- 조건 : 참/거짓(수학적)을 구분할 수 있는 문장"
   ]
  },
  {
   "cell_type": "code",
   "execution_count": null,
   "id": "c8785434",
   "metadata": {},
   "outputs": [],
   "source": [
    "# 조건문 기초 문법\n",
    "\n",
    "# if + 조건 -> 조건이 참이면 실행\n",
    "# 조건문은 True/False로 바뀔 수 있을때 사용\n",
    "# if 조건:\n",
    "#     print(\"참이면 실행\")\n",
    "\n",
    "a = int(input())\n",
    "\n",
    "if a > 10:\n",
    "    print(\"a는 10보다 크다\")\n",
    "print(\"조건문 종료\")\n",
    "\n",
    "# 들여쓰기 에러\n",
    "# if a > 10:\n",
    "# print(\"a는 10보다 크다\")\n",
    "\n",
    "# 조건문에 실행할 코드를 작성하지 않았을 때\n",
    "# pass로 해당 조건문을 넘어갈 수 있음\n",
    "if a > 100:\n",
    "    pass"
   ]
  },
  {
   "cell_type": "code",
   "execution_count": null,
   "id": "6bfce7a8",
   "metadata": {},
   "outputs": [],
   "source": [
    "# 조건식의 평가 (Truthy, Falsy)\n",
    "\n",
    " name = \"taehyun\"\n",
    " if name:\n",
    "     print(\"참이면 실행\")\n",
    "\n",
    "# Falsy\n",
    "# 0, 0.0\n",
    "# 빈 문자열 : \"\",빈 리스트 : [],빈 튜플 : (),빈 딕셔너리 : {}\n",
    "\n",
    "\n",
    "name2 = \"\"\n",
    "if name2:\n",
    "    print(\"참이면 실행\")"
   ]
  },
  {
   "cell_type": "code",
   "execution_count": null,
   "id": "1d69dd95",
   "metadata": {},
   "outputs": [],
   "source": [
    "# 실습1. 날씨에 따른 준비물 안내\n",
    "\n",
    "weather = input(\"오늘의 날씨를 입력해주세요(비/맑음) :\")\n",
    "\n",
    "if weather == \"비\":\n",
    "    print(\"우산을 챙기세요!\")\n",
    "\n",
    "if weather == \"맑음\":\n",
    "    print(\"선크림을 바르세요!\")"
   ]
  },
  {
   "cell_type": "code",
   "execution_count": null,
   "id": "ac52f9cb",
   "metadata": {},
   "outputs": [],
   "source": [
    "# if - else 문\n",
    "\n",
    "# 조건이 참일 때는 if문을, 조건이 거짓일 때는 else문을 실행\n",
    "# else : '아니라면'의 의미 -> 조건이 필요 없다, if문과 반드시 같이 나와야 함\n",
    "\n",
    "a = int(input())\n",
    "if 1 > 10:\n",
    "    print(\"a는 10보다 커요\")\n",
    "else:\n",
    "    print(\"a는 10보다 작아요\")"
   ]
  },
  {
   "cell_type": "code",
   "execution_count": null,
   "id": "a8e89137",
   "metadata": {},
   "outputs": [],
   "source": [
    "# 실습 2. 짝수 홀수 판별하기\n",
    "\n",
    "num = int(input(\"숫자(정수)를 입력해주세요 :\"))\n",
    "\n",
    "if num % 2 == 0:\n",
    "    print(\"짝수입니다.\")\n",
    "else:\n",
    "    print(\"홀수입니다.\")"
   ]
  },
  {
   "cell_type": "code",
   "execution_count": null,
   "id": "9c625b8a",
   "metadata": {},
   "outputs": [],
   "source": [
    "# if - elif - else 문\n",
    "\n",
    "# elif : else if 의 약자, 그게 아니라 만약 ~ 라면\n",
    "# 조건을 반드시 기록\n",
    "# if가 있어야만 사용 가능\n",
    "\n",
    "# ex )\n",
    "# 90점 이상이면 A\n",
    "# 80점 이상이면 B\n",
    "# 70점 이상이면 C\n",
    "# 60점 이상이면 D\n",
    "# 그 외에는 F\n",
    "\n",
    "score = int(input())\n",
    "\n",
    "if score >= 90:\n",
    "    print(\"A\")\n",
    "elif score >= 80:\n",
    "    print(\"B\")\n",
    "elif score >= 70:\n",
    "    print(\"C\")\n",
    "elif score >= 60:\n",
    "    print(\"D\")\n",
    "else:\n",
    "    print(\"F\")\n"
   ]
  },
  {
   "cell_type": "code",
   "execution_count": null,
   "id": "25de5350",
   "metadata": {},
   "outputs": [],
   "source": [
    "# 실습 3. 나이에 따른 영화 관람 가능 여부\n",
    "\n",
    "age = int(input(\"나이를 입력해주세요 :\"))\n",
    "\n",
    "if age <= 12:\n",
    "    print(\"전체 관람가\")\n",
    "elif age <= 15:\n",
    "    print(\"12세 이상 관람가\")\n",
    "elif age <= 18:\n",
    "    print(\"15세 이상 관람가\")\n",
    "else:\n",
    "    print(\"청소년 관람불가 가능\")"
   ]
  },
  {
   "cell_type": "code",
   "execution_count": null,
   "id": "c616027a",
   "metadata": {},
   "outputs": [],
   "source": [
    "# 실습 4. 시, 분, 초 구하기\n",
    "\n",
    "num = int(input(\"초를 입력해주세요 :\"))\n",
    "\n",
    "hour = num // 3600\n",
    "minute = (num % 3600) // 60\n",
    "second = num % 60\n",
    "\n",
    "if num >= 3600:\n",
    "    print(f\"{hour}시간 {minute}분 {second}초\")\n",
    "elif num >= 60:\n",
    "    print(f\"{minute}분 {second}초\")\n",
    "else:\n",
    "    print(f\"{second}초\")"
   ]
  },
  {
   "cell_type": "code",
   "execution_count": null,
   "id": "1dac68bf",
   "metadata": {},
   "outputs": [],
   "source": [
    "# 중첩 조건문\n",
    "\n",
    "# 하나의 if문 안에 또 다른 if문을 사용하는 것\n",
    "\n",
    "user_name = input(\"ID를 입력하세요 :\")\n",
    "\n",
    "if user_name == \"admin\":\n",
    "    password = input(\"비밀번호를 입력하세요 :\")\n",
    "    if password == \"abcd\":\n",
    "        print(\"로그인 성공!\")\n",
    "    else:\n",
    "        print(\"잘못된 비밀번호입니다.\")\n",
    "else:\n",
    "    print(\"잘못된 계정입니다.\")\n",
    "\n",
    "# and를 활용하여 중첩을 단순화 가능"
   ]
  },
  {
   "cell_type": "code",
   "execution_count": null,
   "id": "80f39993",
   "metadata": {},
   "outputs": [],
   "source": [
    "# 실습 5. 편의점 도시락 구매하기\n",
    "\n",
    "money = int(input(\"금액을 입력해주세요 :\"))\n",
    "food = input(\"식품명을 입력해주세요(김밥 / 삼각김밥 / 도시락) :\")\n",
    "\n",
    "if food == \"김밥\":\n",
    "    if money >= 2500:\n",
    "        print(\"구매에 성공했습니다!\")\n",
    "    else:\n",
    "        print(\"잔액이 부족합니다.\")\n",
    "elif food == \"삼각김밥\":\n",
    "    if money >= 1500:\n",
    "        print(\"구매에 성공했습니다!\")\n",
    "    else:\n",
    "        print(\"잔액이 부족합니다.\")\n",
    "elif food == \"도시락\":\n",
    "    if money >= 4000:\n",
    "        print(\"구매에 성공했습니다!\")\n",
    "    else:\n",
    "        print(\"잔액이 부족합니다.\")\n",
    "else:\n",
    "    print(\"입력이 잘못되었습니다.\")"
   ]
  }
 ],
 "metadata": {
  "kernelspec": {
   "display_name": "python-study",
   "language": "python",
   "name": "python3"
  },
  "language_info": {
   "codemirror_mode": {
    "name": "ipython",
    "version": 3
   },
   "file_extension": ".py",
   "mimetype": "text/x-python",
   "name": "python",
   "nbconvert_exporter": "python",
   "pygments_lexer": "ipython3",
   "version": "3.13.5"
  }
 },
 "nbformat": 4,
 "nbformat_minor": 5
}
