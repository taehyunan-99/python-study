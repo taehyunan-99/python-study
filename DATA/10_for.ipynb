{
 "cells": [
  {
   "cell_type": "markdown",
   "id": "6691f79c",
   "metadata": {},
   "source": [
    "## 10. for문\n",
    "- 이터러블의 요소를 하나씩 꺼내서 실행 블록에 전달하는 반복문\n"
   ]
  },
  {
   "cell_type": "code",
   "execution_count": null,
   "id": "759b1cc2",
   "metadata": {},
   "outputs": [],
   "source": [
    "# for문 기본 문법\n",
    "\n",
    "# for 반복변수 in 이터러블:\n",
    "    # 반복할 코드\n",
    "\n",
    "for 반복변수 in [\"가\", \"나\", \"다\", \"라\"]:\n",
    "    # 반복할 코드\n",
    "    print(반복변수)\n",
    "# 가\n",
    "# 나\n",
    "# 다\n",
    "# 라"
   ]
  },
  {
   "cell_type": "code",
   "execution_count": null,
   "id": "ae004b3a",
   "metadata": {},
   "outputs": [],
   "source": [
    "# 리스트로 반복\n",
    "\n",
    "fruits = [\"사과\", \"배\", \"수박\", \"참외\", \"포도\"]\n",
    "\n",
    "for fruit in fruits:\n",
    "    print(fruit)\n",
    "# 사과\n",
    "# 배\n",
    "# 수박\n",
    "# 참외\n",
    "# 포도"
   ]
  },
  {
   "cell_type": "code",
   "execution_count": null,
   "id": "1f4cdd63",
   "metadata": {},
   "outputs": [],
   "source": [
    "# 문자열로 반복\n",
    "\n",
    "my_str = \"Coding\"\n",
    "\n",
    "for text in my_str:\n",
    "    print(text)\n",
    "# C\n",
    "# o\n",
    "# d\n",
    "# i\n",
    "# n\n",
    "# g"
   ]
  },
  {
   "cell_type": "code",
   "execution_count": null,
   "id": "a339e0d4",
   "metadata": {},
   "outputs": [],
   "source": [
    "# 튜플을 활용한 반복\n",
    "\n",
    "좌표 = [(1,2), (10,15), (-6,8)]\n",
    "\n",
    "# 언패킹 가능\n",
    "for x, y in 좌표:\n",
    "    print(f\"x 좌표: {x}, y 좌표: {y}\")\n",
    "# x좌표: 1, y좌표: 2\n",
    "# x좌표: 10, y좌표: 15\n",
    "# x좌표: -6, y좌표: 8"
   ]
  },
  {
   "cell_type": "code",
   "execution_count": null,
   "id": "d258c57e",
   "metadata": {},
   "outputs": [],
   "source": [
    "# 딕셔너리를 이용한 반복\n",
    "\n",
    "person = {\n",
    "    \"name\" : \"taehyun\",\n",
    "    \"age\" : \"27\",\n",
    "    \"job\" : \"student\"\n",
    "}\n",
    "\n",
    "# 기본적인 활용\n",
    "\n",
    "for key in person:\n",
    "    print(key, person[key])\n",
    "# name taehyun\n",
    "# age 27\n",
    "# job student\n",
    "\n",
    "# value만 가져오기\n",
    "\n",
    "for value in person.values():\n",
    "    print(value)\n",
    "# taehyun\n",
    "# 27\n",
    "# student\n",
    "\n",
    "# item 가져오기 (언패킹 가능)\n",
    "\n",
    "for key, value in person.items():\n",
    "    print(key, value)\n",
    "# name taehyun\n",
    "# age 27\n",
    "# job student"
   ]
  },
  {
   "cell_type": "code",
   "execution_count": null,
   "id": "70d274c4",
   "metadata": {},
   "outputs": [],
   "source": [
    "# 실습1 for문 기본 문법 문제\n",
    "\n",
    "# 1. 리스트의 값을 두 배로 변환하기\n",
    "\n",
    "numbers = [3, 6, 1, 8, 4]\n",
    "new_numbers = []\n",
    "\n",
    "for num in numbers:\n",
    "    new_numbers.append(num * 2)\n",
    "\n",
    "print(new_numbers)"
   ]
  },
  {
   "cell_type": "code",
   "execution_count": null,
   "id": "091a5ca2",
   "metadata": {},
   "outputs": [],
   "source": [
    "# 2. 문자열의 길이 구해서 새 리스트 만들기\n",
    "\n",
    "words = [\"apple\", \"banana\", \"kiwi\", \"grape\"]\n",
    "words_len = []\n",
    "\n",
    "for word in words:\n",
    "    words_len.append(len(word))\n",
    "\n",
    "print(words_len)"
   ]
  },
  {
   "cell_type": "code",
   "execution_count": null,
   "id": "bd5ff953",
   "metadata": {},
   "outputs": [],
   "source": [
    "# 3. 좌표 튜플에서 x, y 좌표 나누기\n",
    "\n",
    "coordinates = [(1, 2), (3, 4), (5, 6), (7, 8)]\n",
    "x_values = []\n",
    "y_values = []\n",
    "\n",
    "for x, y in coordinates:\n",
    "    x_values.append(x)\n",
    "    y_values.append(y)\n",
    "\n",
    "print(f\"x 좌표 리스트 : {x_values}\")\n",
    "print(f\"y 좌표 리스트 : {y_values}\")"
   ]
  },
  {
   "cell_type": "code",
   "execution_count": null,
   "id": "b288a742",
   "metadata": {},
   "outputs": [],
   "source": [
    "# for문과 range()\n",
    "\n",
    "# range() 함수 : 지정된 범위의 정수 시퀀스\n",
    "# range 자료형 (시퀀스 자료형)\n",
    "\n",
    "# 기본문법\n",
    "range(start, end, etep)\n",
    "print(list(range(1, 5)))\n",
    "# # [1, 2, 3, 4]\n",
    "\n",
    "for i in range(1, 5):\n",
    "    print(i)\n",
    "for i in [1,2,3,4]:\n",
    "    print(i)\n",
    "# # 1\n",
    "# 2\n",
    "# 3\n",
    "# 4\n",
    "\n",
    "# start를 생략\n",
    "# range(5) # = range(0, 5)\n",
    "\n",
    "for i in range(5):\n",
    "    print(i)\n",
    "# 0\n",
    "# 1\n",
    "# 2\n",
    "# 3\n",
    "# 4\n",
    "\n",
    "# 반복문의 반복변수는 꼭 사용하지 않아도 됨\n",
    "# i는 관습적으로 변수로 사용#\n",
    "for i in range(5):\n",
    "    print(\"안녕하세요\")\n",
    "# 안녕하세요\n",
    "# 안녕하세요\n",
    "# 안녕하세요\n",
    "# 안녕하세요\n",
    "# 안녕하세요"
   ]
  },
  {
   "cell_type": "code",
   "execution_count": null,
   "id": "0e332326",
   "metadata": {},
   "outputs": [],
   "source": [
    "# 간격(step) 지정\n",
    "\n",
    "for i in range(0, 6, 2):\n",
    "    print(i)\n",
    "# 0\n",
    "# 2\n",
    "# 4\n",
    "\n",
    "# 역순 반복\n",
    "for i in range(5, 0, -1):\n",
    "    print(i)\n",
    "# 5\n",
    "# 4\n",
    "# 3\n",
    "# 2\n",
    "# 1"
   ]
  },
  {
   "cell_type": "code",
   "execution_count": null,
   "id": "0cb959e2",
   "metadata": {},
   "outputs": [],
   "source": [
    "print(list(range(1,10)))\n",
    "print(list(range(10)))\n",
    "print(list(range(1,10,2)))\n",
    "print(list(range(10,0,-1)))\n",
    "# [1, 2, 3, 4, 5, 6, 7, 8, 9]\n",
    "# [0, 1, 2, 3, 4, 5, 6, 7, 8, 9]\n",
    "# [1, 3, 5, 7, 9]\n",
    "# [10, 9, 8, 7, 6, 5, 4, 3, 2, 1]"
   ]
  },
  {
   "cell_type": "code",
   "execution_count": null,
   "id": "6f191c9c",
   "metadata": {},
   "outputs": [],
   "source": [
    "# 실습 2 for문과 range\n",
    "\n",
    "# 1. 입력 반은 수의 합 구하기\n",
    "\n",
    "num = int(input(\"숫자를 입력해주세요 :\"))\n",
    "nums = []\n",
    "\n",
    "for i in range(1, num + 1):\n",
    "    nums.append(i)\n",
    "\n",
    "print(sum(nums))"
   ]
  },
  {
   "cell_type": "code",
   "execution_count": null,
   "id": "6f78424e",
   "metadata": {},
   "outputs": [],
   "source": [
    "# 2. 구구단 만들기 - 1\n",
    "\n",
    "num = int(input(\"숫자를 입력해주세요 :\"))\n",
    "\n",
    "for i in range(1, 10):\n",
    "    print(f\"{num} X {i} = {num * i}\")"
   ]
  },
  {
   "cell_type": "code",
   "execution_count": null,
   "id": "0f09cac0",
   "metadata": {},
   "outputs": [],
   "source": [
    "# 3. 3의 배수의 합 구하기\n",
    "\n",
    "nums = 0\n",
    "\n",
    "for i in range(3,101,3):\n",
    "    nums += i\n",
    "\n",
    "print(nums)"
   ]
  },
  {
   "cell_type": "code",
   "execution_count": null,
   "id": "5a3a9551",
   "metadata": {},
   "outputs": [],
   "source": [
    "# 4. 짝수이면서 5의 배수인 수 출려하기\n",
    "\n",
    "num = int(input(\"숫자를 입력해주세요 :\"))\n",
    "\n",
    "for i in range(1, num+1):\n",
    "    if i % 2 == 0 and i % 5 == 0:\n",
    "        print(i)\n",
    "\n",
    "# for i in range(2, num+1, 2):\n",
    "#     if i % 5 == 0:\n",
    "#         print(i)"
   ]
  },
  {
   "cell_type": "code",
   "execution_count": null,
   "id": "7dc91016",
   "metadata": {},
   "outputs": [],
   "source": [
    "# 루프 제어문\n",
    "# 특정 조건 하에서만 작동하도록 구현\n",
    "# break : 반복을 즉시 중단\n",
    "\n",
    "for i in range(10):\n",
    "    if i == 5:\n",
    "        break   \n",
    "    print(i)\n",
    "\n",
    "print(\"반복문 종료\")\n",
    "# 0\n",
    "# 1\n",
    "# 2\n",
    "# 3\n",
    "# 4\n",
    "# 반복문 종료"
   ]
  },
  {
   "cell_type": "code",
   "execution_count": null,
   "id": "980e6e22",
   "metadata": {},
   "outputs": [],
   "source": [
    "# continue : 현재 반복을 넘어감\n",
    "\n",
    "for i in range(5):\n",
    "    if i == 2:\n",
    "        continue   \n",
    "    print(i)\n",
    "\n",
    "print(\"반복문 종료\")\n",
    "# 0\n",
    "# 1\n",
    "# 3\n",
    "# 4\n",
    "# 반복문 종료"
   ]
  },
  {
   "cell_type": "code",
   "execution_count": null,
   "id": "ba8c5ef2",
   "metadata": {},
   "outputs": [],
   "source": [
    "# pass\n",
    "# pass 없이 넘어가면 에러 발생\n",
    "\n",
    "for i in range(10):\n",
    "    pass"
   ]
  },
  {
   "cell_type": "code",
   "execution_count": null,
   "id": "06be7a16",
   "metadata": {},
   "outputs": [],
   "source": [
    "#  for - else 구문\n",
    "# for문에서 break가 실행될 경우 else가 실행되지 않음\n",
    "\n",
    "for i in range(5):\n",
    "    print(i)\n",
    "else:\n",
    "    print(\"반복종료\")\n",
    "# 0\n",
    "# 1\n",
    "# 2\n",
    "# 3\n",
    "# 4\n",
    "# 반복종료"
   ]
  },
  {
   "cell_type": "code",
   "execution_count": null,
   "id": "aa52a52c",
   "metadata": {},
   "outputs": [],
   "source": [
    "# 중첩 for문\n",
    "# 하나의 for문 안에 다른 for문이 들어있는 구조\n",
    "\n",
    "# 이중 for문\n",
    "for i in range(4):\n",
    "    for j in range(5):\n",
    "        print(\"😀\", end=\" \")\n",
    "    print()\n",
    "# 😀 😀 😀 😀 😀 \n",
    "# 😀 😀 😀 😀 😀 \n",
    "# 😀 😀 😀 😀 😀 \n",
    "# 😀 😀 😀 😀 😀 "
   ]
  },
  {
   "cell_type": "code",
   "execution_count": null,
   "id": "fc0cf455",
   "metadata": {},
   "outputs": [],
   "source": [
    "# 이중 for문\n",
    "# i, j 나누어 변수를 지정해야만 변수 활용 가능\n",
    "for i in range(4):\n",
    "    for j in range(4):\n",
    "        print(f\"{i},{j}\", end=\" \")\n",
    "    print()\n",
    "# 0,0 0,1 0,2 0,3 \n",
    "# 1,0 1,1 1,2 1,3 \n",
    "# 2,0 2,1 2,2 2,3 \n",
    "# 3,0 3,1 3,2 3,3 "
   ]
  },
  {
   "cell_type": "code",
   "execution_count": null,
   "id": "8f4c41f4",
   "metadata": {},
   "outputs": [],
   "source": [
    "# 실습3. 중첩 for문 연습 문제\n",
    "\n",
    "# 1. 구구단 만들기 - 2\n",
    "\n",
    "for i in range(2,10):\n",
    "    print(f\"[ {i}단 ]\")\n",
    "    for j in range(1,10):\n",
    "        print(f\"{i} x {j} = {i * j}\")\n",
    "    print()\n",
    "# [ 2단 ]\n",
    "# 2 x 1 = 2\n",
    "# 2 x 2 = 4\n",
    "# 2 x 3 = 6\n",
    "# 2 x 4 = 8\n",
    "# 2 x 5 = 10\n",
    "# 2 x 6 = 12\n",
    "# 2 x 7 = 14\n",
    "# 2 x 8 = 16\n",
    "# 2 x 9 = 18"
   ]
  },
  {
   "cell_type": "code",
   "execution_count": null,
   "id": "a7411a98",
   "metadata": {},
   "outputs": [],
   "source": [
    "# 2. 중첩 for문 별찍기\n",
    "\n",
    "# 왼쪽 정렬\n",
    "num = int(input(\"수를 입력해주세요 :\"))\n",
    "\n",
    "for i in range(1, num+1):\n",
    "    for j in range(i):\n",
    "        print(\"*\", end=\" \")\n",
    "    print()\n",
    "# * \n",
    "# * * \n",
    "# * * * \n",
    "# * * * * \n",
    "# * * * * * "
   ]
  },
  {
   "cell_type": "code",
   "execution_count": null,
   "id": "6ccee54c",
   "metadata": {},
   "outputs": [],
   "source": [
    "# 오른쪽 정렬\n",
    "num = int(input(\"수를 입력해주세요 :\"))\n",
    "\n",
    "for i in range(1, num + 1):\n",
    "    for j in range(num - i):\n",
    "        print(\" \", end=\" \")\n",
    "    for j in range(i):\n",
    "        print(\"*\", end=\" \")\n",
    "    print()\n",
    "#         * \n",
    "#       * * \n",
    "#     * * * \n",
    "#   * * * * \n",
    "# * * * * * "
   ]
  },
  {
   "cell_type": "code",
   "execution_count": null,
   "id": "e1374f9b",
   "metadata": {},
   "outputs": [],
   "source": [
    "# 가운데 정렬\n",
    "num = int(input(\"수를 입력해주세요 :\"))\n",
    "\n",
    "for i in range(1, num + 1):\n",
    "    for j in range(num - i):\n",
    "        print(\" \", end=\" \")\n",
    "    for j in range(2 * i - 1):\n",
    "        print(\"*\", end=\" \")\n",
    "    print()\n",
    "#         * \n",
    "#       * * * \n",
    "#     * * * * * \n",
    "#   * * * * * * * \n",
    "# * * * * * * * * * "
   ]
  },
  {
   "cell_type": "code",
   "execution_count": null,
   "id": "a82a4179",
   "metadata": {},
   "outputs": [],
   "source": [
    "# 리스트 컴프리헨션 (List Comprehension)\n",
    "# for문을 리스트에 한줄로 축약하여 새리스트를 생성하는 문법\n",
    "# [표현식(리스트의 원소) for 변수 in 반복대상 if 조건]\n",
    "# 표현식 : 값을 유도하는 식(표현)\n",
    "\n",
    "# for문\n",
    "squares = []\n",
    "for x in range(1,6):\n",
    "    squares.append(x ** 2)\n",
    "print(squares)\n",
    "\n",
    "# 리스트 컴프리헨션\n",
    "squares_2 = [x ** 2 for x in range(1,6)]\n",
    "print(squares_2)\n",
    "# [1, 4, 9, 16, 25]\n",
    "# [1, 4, 9, 16, 25]"
   ]
  },
  {
   "cell_type": "code",
   "execution_count": null,
   "id": "4ed881c5",
   "metadata": {},
   "outputs": [],
   "source": [
    "# 조건문 추가하기\n",
    "\n",
    "squares_3 = [x ** 2 for x in range(1,11) if x % 2 == 0]\n",
    "print(squares_3)\n",
    "# [4, 16, 36, 64, 100]"
   ]
  },
  {
   "cell_type": "code",
   "execution_count": null,
   "id": "2f344992",
   "metadata": {},
   "outputs": [],
   "source": [
    "# 예시\n",
    "words = [\"apple\", \"banana\", \"kiwi\", \"grape\"]\n",
    "lengths = [len(word) for word in words]\n",
    "print(lengths)\n",
    "# [5, 6, 4, 5]"
   ]
  },
  {
   "cell_type": "code",
   "execution_count": null,
   "id": "84aab1c7",
   "metadata": {},
   "outputs": [],
   "source": [
    "# 중첩 for문 \n",
    "colors = [\"red\", \"blue\"]\n",
    "fruits = [\"사과\", \"수박\"]\n",
    "\n",
    "pairs = [(color, fruit) for color in colors for fruit in fruits]\n",
    "print(pairs)\n",
    "# [('red', '사과'), ('red', '수박'), ('blue', '사과'), ('blue', '수박')]"
   ]
  },
  {
   "cell_type": "code",
   "execution_count": null,
   "id": "71c6e0c0",
   "metadata": {},
   "outputs": [],
   "source": [
    "# 실습 4. 리스트 컴프리헨션 연습 문제\n",
    "\n",
    "# 1. 제곱값 리스트 만들기\n",
    "\n",
    "num = [x ** 2 for x in range(1, 11)]\n",
    "print(num)\n",
    "# [1, 4, 9, 16, 25, 36, 49, 64, 81, 100]"
   ]
  },
  {
   "cell_type": "code",
   "execution_count": null,
   "id": "25d7e6bd",
   "metadata": {},
   "outputs": [],
   "source": [
    "# 2. 3의 배수만 리스트로 만들기\n",
    "\n",
    "num = [x for x in range(1, 51) if x % 3 == 0]\n",
    "print(num)\n",
    "# [3, 6, 9, 12, 15, 18, 21, 24, 27, 30, 33, 36, 39, 42, 45, 48]"
   ]
  },
  {
   "cell_type": "code",
   "execution_count": null,
   "id": "d1ef5dda",
   "metadata": {},
   "outputs": [],
   "source": [
    "# 3. 문자열 리스트에서 길이가 5이상인 단어만 뽑기\n",
    "\n",
    "fruits = [\"apple\", \"fig\", \"banana\", \"plum\", \"cherry\", \"pear\", \"orange\"]\n",
    "\n",
    "lengths = [fruit for fruit in fruits if len(fruit) >= 5]\n",
    "print(lengths)\n",
    "# ['apple', 'banana', 'cherry', 'orange']"
   ]
  }
 ],
 "metadata": {
  "kernelspec": {
   "display_name": "python-study",
   "language": "python",
   "name": "python3"
  },
  "language_info": {
   "codemirror_mode": {
    "name": "ipython",
    "version": 3
   },
   "file_extension": ".py",
   "mimetype": "text/x-python",
   "name": "python",
   "nbconvert_exporter": "python",
   "pygments_lexer": "ipython3",
   "version": "3.13.5"
  }
 },
 "nbformat": 4,
 "nbformat_minor": 5
}
