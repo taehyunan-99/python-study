{
 "cells": [
  {
   "cell_type": "markdown",
   "id": "fa7155c4",
   "metadata": {},
   "source": [
    "## 주석 : 코드에 대한 설명을 작성하는 텍스트\n",
    "- 프로그램 실행에 영향을 주지 않음"
   ]
  },
  {
   "cell_type": "code",
   "execution_count": null,
   "id": "99bf500f",
   "metadata": {},
   "outputs": [
    {
     "name": "stdout",
     "output_type": "stream",
     "text": [
      "hello world\n"
     ]
    }
   ],
   "source": [
    "# 이렇게 작성함\n",
    "# 단축키는 (mac) cmd + / (win) ctrl + /\n",
    "\n",
    "# 일시적으로 코드를 비활성화 시킴\n",
    "# print(\"hello\")\n",
    "\n",
    "#출력 : print 함수\n",
    "# 내가 작성한 코드가 잘 작동하는지 확인 용도\n",
    "print(\"hello world\")"
   ]
  },
  {
   "cell_type": "markdown",
   "id": "77428428",
   "metadata": {},
   "source": [
    "## 벨로그 이미지 불러오기\n",
    "\n",
    "<p align=\"center\"><img src=\"이미지 주소\" width=400px>"
   ]
  },
  {
   "cell_type": "code",
   "execution_count": 5,
   "id": "02c897fc",
   "metadata": {},
   "outputs": [
    {
     "name": "stdout",
     "output_type": "stream",
     "text": [
      "가 나 다\n",
      "가-나-다\n",
      "안녕하세요.\n",
      "반갑습니다.\n",
      "처음뵙겠습니다.\n",
      "안녕하세요. 반갑습니다.-처음뵙겠습니다.\n"
     ]
    }
   ],
   "source": [
    "# print의 구분자 지정\n",
    "# sep=\"\"\n",
    "# \"\" 안에는 공백 \" \" 또는 \"-\"과 같은 옵션을 지정\n",
    "\n",
    "print(\"가\", \"나\", \"다\")\n",
    "\n",
    "print(\"가\", \"나\", \"다\", sep=\"-\")\n",
    "\n",
    "# print의 줄바꿈 옵션\n",
    "# end=\"\"\n",
    "\n",
    "print(\"안녕하세요.\")\n",
    "print(\"반갑습니다.\")\n",
    "print(\"처음뵙겠습니다.\")\n",
    "\n",
    "print(\"안녕하세요.\", end=\" \")\n",
    "print(\"반갑습니다.\", end=\"-\")\n",
    "print(\"처음뵙겠습니다.\")"
   ]
  },
  {
   "cell_type": "markdown",
   "id": "561a832e",
   "metadata": {},
   "source": [
    "## 1. 변수"
   ]
  },
  {
   "cell_type": "markdown",
   "id": "b2579185",
   "metadata": {},
   "source": [
    "### 1. 변수 (Variable)\n",
    "- 변수 : 자료를 저장하는 공간\n",
    "- 선언 : 변수를 만드는 것\n",
    "- 할당 : 변수에 값을 저장하는 것\n",
    "- 초기화 : 처음으로 변수에 값을 할당하는 것\n",
    "- = : 대입 연산자, 등호가 아님!! ( 같다 -> == )\n",
    "    - 변수에 값을 저장(할당)한다는 의미"
   ]
  },
  {
   "cell_type": "code",
   "execution_count": null,
   "id": "7060b14c",
   "metadata": {},
   "outputs": [
    {
     "name": "stdout",
     "output_type": "stream",
     "text": [
      "저장할 자료\n"
     ]
    }
   ],
   "source": [
    "# 변수의 선언과 할당\n",
    "변수이름 = \"저장할 자료\"\n",
    "print(변수이름)"
   ]
  },
  {
   "cell_type": "code",
   "execution_count": null,
   "id": "a335f259",
   "metadata": {},
   "outputs": [],
   "source": [
    "# 변수 이름 규칙\n",
    "\n",
    "# 1st_place = \"Gold\"\n",
    "first_place = \"Gold\"\n",
    "# user name = \"Alice\"\n",
    "user_name = \"Alice\"\n",
    "# class = \"Math\"\n",
    "class_name = \"Math\""
   ]
  },
  {
   "cell_type": "code",
   "execution_count": null,
   "id": "d99826cb",
   "metadata": {},
   "outputs": [
    {
     "name": "stdout",
     "output_type": "stream",
     "text": [
      "반갑습니다\n"
     ]
    }
   ],
   "source": [
    "# 변수의 특징\n",
    "# 저장한 값을 바꿀 수 있다\n",
    "# 단, 한번에 하나씩만 저장된다.\n",
    "인사 = \"안녕하새요\"\n",
    "인사 = \"반갑습니다\"\n",
    "\n",
    "print(인사)\n",
    "\n",
    "# 파이썬에서 변수는 선언과 함께 초기화를 해줘야함\n",
    "# 새로운 변수 (X)\n",
    "# 새로운변수 = \"선언과함께 초기화\""
   ]
  },
  {
   "cell_type": "code",
   "execution_count": 10,
   "id": "4ea200f2",
   "metadata": {},
   "outputs": [
    {
     "name": "stdout",
     "output_type": "stream",
     "text": [
      "1 2 3\n"
     ]
    }
   ],
   "source": [
    "# 한 줄에 여러 변수 만들기\n",
    "a = 1\n",
    "b = 2\n",
    "c = 3\n",
    "\n",
    "a, b, c = 1, 2, 3\n",
    "\n",
    "print(a, b, c)"
   ]
  },
  {
   "cell_type": "code",
   "execution_count": null,
   "id": "5c1d0e36",
   "metadata": {},
   "outputs": [
    {
     "name": "stdout",
     "output_type": "stream",
     "text": [
      "20 10\n"
     ]
    }
   ],
   "source": [
    "# 값의 교환\n",
    "x =10\n",
    "y = 20\n",
    "\n",
    "x, y = y, x\n",
    "print(x, y)"
   ]
  },
  {
   "cell_type": "code",
   "execution_count": null,
   "id": "0a4fae38",
   "metadata": {},
   "outputs": [],
   "source": [
    "# print(\"안녕하세요\") print(\"반갑습니다\") <- X\n",
    "\n",
    "# 파이썬은 Enter를 입력하여 문장과 문장을 구분함\n",
    "\n",
    "# print(\"안녕하세요\")\n",
    "# print(\"반갑습니다\")"
   ]
  }
 ],
 "metadata": {
  "kernelspec": {
   "display_name": "python-study",
   "language": "python",
   "name": "python3"
  },
  "language_info": {
   "codemirror_mode": {
    "name": "ipython",
    "version": 3
   },
   "file_extension": ".py",
   "mimetype": "text/x-python",
   "name": "python",
   "nbconvert_exporter": "python",
   "pygments_lexer": "ipython3",
   "version": "3.13.5"
  }
 },
 "nbformat": 4,
 "nbformat_minor": 5
}
