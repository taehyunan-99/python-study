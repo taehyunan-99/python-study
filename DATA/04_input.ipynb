{
 "cells": [
  {
   "cell_type": "markdown",
   "id": "2336fa84",
   "metadata": {},
   "source": [
    "## 사용자 입력 (input)\n",
    "- input() : 콘솔을 통해 사용자로부터 문자열 형태의 입력을 받는 함수\n",
    "    - input을 통해 받은 입력은 항상 문자열로 입력됨"
   ]
  },
  {
   "cell_type": "code",
   "execution_count": null,
   "id": "b71087aa",
   "metadata": {},
   "outputs": [],
   "source": [
    "# input 사용법\n",
    "# my_input = input()\n",
    "\n",
    "# input을 통해 받은 입력 -> 문자열\n",
    "# 숫자로 활용할시 '형변환'을 해줘야 됨\n",
    "\n",
    "# 정수 계산시 정수형으로 변환\n",
    "a = int(input())\n",
    "b = int(input())\n",
    "\n",
    "print(a + b)"
   ]
  },
  {
   "cell_type": "code",
   "execution_count": null,
   "id": "f7e09b85",
   "metadata": {},
   "outputs": [],
   "source": [
    "# 실수 계산을 하려면 실수형으로 변환\n",
    "\n",
    "c = float(input())\n",
    "d = float(input())\n",
    "\n",
    "print(c + d)"
   ]
  },
  {
   "cell_type": "code",
   "execution_count": null,
   "id": "84f85f3d",
   "metadata": {},
   "outputs": [],
   "source": [
    "# input의 입력에 대한 설명문 추가\n",
    "\n",
    "name = input(\"이름을 입력하세요 :\")\n",
    "print(f\"제 이름은 {name}입니다.\")"
   ]
  },
  {
   "cell_type": "code",
   "execution_count": null,
   "id": "3de17706",
   "metadata": {},
   "outputs": [],
   "source": [
    "# 문자열을 쪼개주는 함수 : split()\n",
    "# split은 구분자를 기준으로 문자열을 쪼개서 리스트를 반환함\n",
    "# 구분자의 기본값은 공백\n",
    "\n",
    "과일1, 과일2, 과일3 = \"수박 사과 참외\".split()\n",
    "print(과일1)\n",
    "print(과일2)\n",
    "print(과일3)\n",
    "\n",
    "# 여러 자료 입력하기\n",
    "# input에 적용\n",
    "과일1, 과일2, 과일3 = input().split()\n",
    "print(과일1)\n",
    "print(과일2)\n",
    "print(과일3)"
   ]
  },
  {
   "cell_type": "code",
   "execution_count": null,
   "id": "d2e52e20",
   "metadata": {},
   "outputs": [],
   "source": [
    "# split() 안에 쪼개는 기본값 변경 가능\n",
    "\n",
    "과일 = \"수박-사과-참외\".split(-)\n",
    "print(과일)"
   ]
  },
  {
   "cell_type": "code",
   "execution_count": 1,
   "id": "69611b88",
   "metadata": {},
   "outputs": [
    {
     "name": "stdout",
     "output_type": "stream",
     "text": [
      "안녕하세요. 저는 안태현이고, 27살 입니다.\n"
     ]
    }
   ],
   "source": [
    "# 실습 3. input 연습하기\n",
    "\n",
    "name = input(\"이름을 입력하세요 :\")\n",
    "age = input(\"나이를 입력하세요 :\")\n",
    "\n",
    "print(f\"안녕하세요. 저는 {name}이고, {age}살 입니다.\")"
   ]
  },
  {
   "cell_type": "code",
   "execution_count": null,
   "id": "b57338db",
   "metadata": {},
   "outputs": [
    {
     "name": "stdout",
     "output_type": "stream",
     "text": [
      "넓이 : 200\n",
      "둘레 : 60\n"
     ]
    }
   ],
   "source": [
    "# 실습 4. 입력과 연산 연습하기\n",
    "\n",
    "# 4-1. 사용자로부터 가로와 세로를 입력 받아 넓이와 둘레를 계산하세요\n",
    "\n",
    "width = int(input(\"가로의 길이를 입력하세요 :\"))\n",
    "length = int(input(\"세로의 길이를 입력하세요 :\"))\n",
    "\n",
    "extent = width * length\n",
    "round = (width + length) * 2\n",
    "\n",
    "print(f\"넓이 : {extent}\")\n",
    "print(f\"둘레 : {round}\")\n"
   ]
  },
  {
   "cell_type": "code",
   "execution_count": null,
   "id": "445970e5",
   "metadata": {},
   "outputs": [
    {
     "name": "stdout",
     "output_type": "stream",
     "text": [
      "천의 자리 : 1\n",
      "백의 자리 : 2\n",
      "십의 자리 : 3\n",
      "일의 자리 : 4\n"
     ]
    }
   ],
   "source": [
    "# 4-2. 네 자릿수 정수를 입력 받고 각 자릿수를 분리하여 출력하세요.\n",
    "\n",
    "num = int(input(\"네 자릿수 정수를 입력하세요 :\"))\n",
    "\n",
    "# 1234\n",
    "\n",
    "thousand = num // 1000\n",
    "hundred = (num // 100) - (num // 1000 * 10)\n",
    "tens = (num // 10) - (num // 100 * 10)\n",
    "ones = num - (num // 10 * 10)\n",
    "\n",
    "print(f\"천의 자리 : {thousand}\")\n",
    "print(f\"백의 자리 : {hundred}\")\n",
    "print(f\"십의 자리 : {tens}\")\n",
    "print(f\"일의 자리 : {ones}\")"
   ]
  },
  {
   "cell_type": "code",
   "execution_count": 15,
   "id": "ba8431e8",
   "metadata": {},
   "outputs": [
    {
     "name": "stdout",
     "output_type": "stream",
     "text": [
      "1조 발표자 : 민수 - 주제 : 재생에너지현황\n",
      "2조 발표자 : 철수 - 주제 : 재생에너지전망\n",
      "3조 발표자 : 영희 - 주제 : 재생에너지직군\n"
     ]
    }
   ],
   "source": [
    "# 실습 5. 발표 순서와 발표 주제 정하기\n",
    "\n",
    "name1, name2, name3 = input(\"각 조의 발표자 3명의 이름을 입력해주세요(이름은 띄어쓰기로 구분) :\").split()\n",
    "title1, title2, title3 = input(\"각 조의 발표 주제 3개를 입력해주세요(각 주제는 띄어쓰기로 구분) :\").split()\n",
    "\n",
    "print(f\"1조 발표자 : {name1} - 주제 : {title1}\")\n",
    "print(f\"2조 발표자 : {name2} - 주제 : {title2}\")\n",
    "print(f\"3조 발표자 : {name3} - 주제 : {title3}\")"
   ]
  },
  {
   "cell_type": "code",
   "execution_count": null,
   "id": "15c17f43",
   "metadata": {},
   "outputs": [
    {
     "name": "stdout",
     "output_type": "stream",
     "text": [
      "RE3의 개강일은 2025년 07월 07일\n",
      "시작 시간은 09시 05분 30초 입니다.\n"
     ]
    }
   ],
   "source": [
    "# 실습 6. 날짜와 시간\n",
    "\n",
    "year, month, day = input(\"날짜를 연도.월.일로 구분하여 입력해주세요 :\").split(\".\")\n",
    "hour, minute, second = input(\"시간을 시:분:초로 구분하여 입력해주세요 :\").split(\":\")\n",
    "\n",
    "print(f\"RE3의 개강일은 {year}년 {month}월 {day}일\")\n",
    "print(f\"시작 시간은 {hour}시 {minute}분 {second}초 입니다.\")"
   ]
  }
 ],
 "metadata": {
  "kernelspec": {
   "display_name": "python-study",
   "language": "python",
   "name": "python3"
  },
  "language_info": {
   "codemirror_mode": {
    "name": "ipython",
    "version": 3
   },
   "file_extension": ".py",
   "mimetype": "text/x-python",
   "name": "python",
   "nbconvert_exporter": "python",
   "pygments_lexer": "ipython3",
   "version": "3.13.5"
  }
 },
 "nbformat": 4,
 "nbformat_minor": 5
}
