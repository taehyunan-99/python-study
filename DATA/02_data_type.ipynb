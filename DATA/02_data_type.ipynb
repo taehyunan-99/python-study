{
 "cells": [
  {
   "cell_type": "markdown",
   "id": "a554d919",
   "metadata": {},
   "source": [
    "## 2.자료형 (Data Type)\n",
    "- 자료의 종류와 구조를 정의하는 것\n",
    "- 파이썬 : 동적 타입 언어(<-> 정적 타입 언어)\n",
    "    - 변수를 만들때 별도의 타입을 지정하지 않아도 됨"
   ]
  },
  {
   "cell_type": "code",
   "execution_count": null,
   "id": "d3c220f5",
   "metadata": {},
   "outputs": [],
   "source": [
    "# 문자열(string, str)\n",
    "my_str1 = '' # 빈문자열\n",
    "my_str2 = \" \" # 공백문자열\n",
    "my_str3 = \"안녕하세요\" # \"요하녕한세\" -> 문자열은 '순서가 있는 자료형'\n",
    "\n",
    "# 문자열 여러줄로 만들기\n",
    "multi_str = \"\"\"코\n",
    "딩\n",
    "온\n",
    "\"\"\"\n",
    "\n",
    "print(multi_str)\n",
    "\n",
    "print(type(multi_str))"
   ]
  },
  {
   "cell_type": "code",
   "execution_count": null,
   "id": "9d04adc6",
   "metadata": {},
   "outputs": [],
   "source": [
    "# 따옴표 속에 따옴표 쓰기\n",
    "print(\"'지식'은 우정을 대신하지 않아\")\n",
    "print('\"지식\"은 우정을 대신하지 않아')"
   ]
  },
  {
   "cell_type": "code",
   "execution_count": null,
   "id": "ebce793b",
   "metadata": {},
   "outputs": [],
   "source": [
    "# 2. 정수형 (integer, int)\n",
    "# 파이썬의 정수형의 실질적 크기 제한이 없다\n",
    "# 변수가 저장되는 메모리의 용량의 한계 = 정수형의 크기 제한\n",
    "# 대부분의 언어는 크기 제한이 존재\n",
    "\n",
    "my_int1 = 100\n",
    "\n",
    "print(type(my_int1))"
   ]
  },
  {
   "cell_type": "code",
   "execution_count": null,
   "id": "a8d73089",
   "metadata": {},
   "outputs": [],
   "source": [
    "# 3. 실수형 (float) = 떠다니는\n",
    "# 부동소수점 방식\n",
    "\n",
    "my_float = 3.14\n",
    "my_float1 = 100.0\n",
    "\n",
    "print(type(my_float1))"
   ]
  },
  {
   "cell_type": "code",
   "execution_count": null,
   "id": "4383068e",
   "metadata": {},
   "outputs": [],
   "source": [
    "# 4. 논리형 (boolean, bool)\n",
    "# 참과 거짓을 표현하는 자료형\n",
    "\n",
    "print(True)\n",
    "print(False)\n",
    "\n",
    "print(type(True))\n",
    "print(type(False))"
   ]
  },
  {
   "cell_type": "code",
   "execution_count": null,
   "id": "d3be6dd7",
   "metadata": {},
   "outputs": [],
   "source": [
    "# f-string : 문자열 포매팅\n",
    "# 문자열 안에 변수를 쓸 수 있도록 해주는 기능\n",
    "\n",
    "# 일반적으로 print 사용\n",
    "my_name = \"taehyun\"\n",
    "my_age = 27\n",
    "\n",
    "# print(\"내 이름은\", my_name, \"이고, 나이는\", my_age, \"살 입니다.\")\n",
    "\n",
    "# 공격력 : 100 방어력 : 80 민첩성 : 95 지력 : 105\n",
    "\n",
    "my_att = 100\n",
    "my_def = 80\n",
    "my_agi = 95\n",
    "my_int = 105\n",
    "\n",
    "# print(\"공격력 :\", my_att, \"방어력 :\", my_def, \"민첩성 :\", my_agi, \"지력 :\", my_int)\n",
    "\n",
    "#  f-string 사용\n",
    "\n",
    "print(f\"공격력 : {my_att}, 방어력 : {my_def}, 민첩성 : {my_agi}, 지력 : {my_int}\")\n"
   ]
  },
  {
   "cell_type": "code",
   "execution_count": null,
   "id": "afec9523",
   "metadata": {},
   "outputs": [],
   "source": [
    "# 이전 방식의 문자열 포매팅\n",
    "\n",
    "print(\"내 이름은 %s입니다\" % \"taehyun\")\n",
    "print(\"내 나이는 %s입니다\" % \"27\")\n",
    "\n",
    "# 이전 방식 2\n",
    "print(\"내 이름은 {}입니다\".format(\"taehyun\"))\n",
    "\n",
    "# 최신에는 t-string 도 나옴"
   ]
  },
  {
   "cell_type": "code",
   "execution_count": null,
   "id": "ce25c04a",
   "metadata": {},
   "outputs": [],
   "source": [
    "# 형 변환 (Type Casting)\n",
    "# 명시적 형변환(explicit) and 암시적 형변환(implicit)\n",
    "# 강타입 and 약타입\n",
    "\n",
    "# 정수로 변환 : int()\n",
    "# 1. 실수 -> 정수\n",
    "# 2. 문자열로 표현된 정수 -> 정수 \"100\"\n",
    "# 3. 논리형 -> 정수\n",
    "\n",
    "# 가능한 경우\n",
    "print(f\"3.14 -> {int(3.14)}\")\n",
    "print(f\"'100' -> {int('100')}\")\n",
    "print(f\"True -> {int(True)}\")\n",
    "print(f\"False -> {int(False)}\")\n"
   ]
  },
  {
   "cell_type": "code",
   "execution_count": null,
   "id": "d123e9fd",
   "metadata": {},
   "outputs": [],
   "source": [
    "# 불가능한 경우 \n",
    "# print(int(\"3.14\")) # 문자열로 표현된 실수\n",
    "# print(int(\"abc\")) # 문자열 그대로 변환하려는 경우"
   ]
  },
  {
   "cell_type": "code",
   "execution_count": null,
   "id": "375d5f4d",
   "metadata": {},
   "outputs": [],
   "source": [
    "# 실수로 변환 : float()\n",
    "# 1. 정수 -> 실수\n",
    "# 2. 문자열로 표현된 실수 -> 실수\n",
    "# 3. 문자열로 표현된 정수 -> 실수\n",
    "# 4. 논리형 -> 실수\n",
    "\n",
    "# 가능한 경우\n",
    "print(f\"7 -> {float(7)}\")\n",
    "print(f\"'3.14' -> {float('3.14')}\")\n",
    "print(f\"'100' -> {float('100')}\")\n",
    "print(f\"True -> {float(True)}\")\n",
    "print(f\"False -> {float(False)}\")\n"
   ]
  },
  {
   "cell_type": "code",
   "execution_count": null,
   "id": "cb84703f",
   "metadata": {},
   "outputs": [],
   "source": [
    "# 불가능한 경우 \n",
    "# print(float(\"def\")) # 문자열 그대로 변환하려는 경우"
   ]
  },
  {
   "cell_type": "code",
   "execution_count": null,
   "id": "0176b2e1",
   "metadata": {},
   "outputs": [],
   "source": [
    "# 문자열로 변환 : str()\n",
    "# 모든 타입을 문자열로 변환 가능\n",
    "\n",
    "print(str(100), type(str(100)))\n",
    "print(str(3.14), type(str(3.14)))\n",
    "print(str(True), type(str(True)))\n",
    "print(str(False), type(str(False)))"
   ]
  },
  {
   "cell_type": "code",
   "execution_count": null,
   "id": "933d978d",
   "metadata": {},
   "outputs": [],
   "source": [
    "# 논리형으로 변환 : bool()\n",
    "\n",
    "print(bool(1))\n",
    "print(bool(0))"
   ]
  },
  {
   "cell_type": "code",
   "execution_count": null,
   "id": "a20fd753",
   "metadata": {},
   "outputs": [],
   "source": [
    "# 암시적 형변환\n",
    "# 정수와 실수의 연산에서 자동으로 실수로 연산해줌\n",
    "\n",
    "print(10 + 5.0)\n",
    "# print(\"100\" + 200) # 불가능"
   ]
  },
  {
   "cell_type": "code",
   "execution_count": null,
   "id": "088cad5d",
   "metadata": {},
   "outputs": [
    {
     "name": "stdout",
     "output_type": "stream",
     "text": [
      "Title : Inception Director : Christopher Nolan Year : 2010 Genre : Sci-Fi\n"
     ]
    }
   ],
   "source": [
    "# 실습 1) 영화 정보 출력하기\n",
    "\n",
    "m_title = \"Inception\"\n",
    "m_director = \"Christopher Nolan\"\n",
    "m_year = \"2010\"\n",
    "m_genre = \"Sci-Fi\"\n",
    "\n",
    "print(f\"Title : {m_title} Director : {m_director} Year : {m_year} Genre : {m_genre}\")"
   ]
  },
  {
   "cell_type": "code",
   "execution_count": null,
   "id": "6fb6a8fd",
   "metadata": {},
   "outputs": [
    {
     "name": "stdout",
     "output_type": "stream",
     "text": [
      "안녕하세요,\n",
      "제 이름은 안태현이고,\n",
      "27살입니다.\n",
      "제 MBTI는 INTP에요.\n"
     ]
    }
   ],
   "source": [
    "# 실습 2) 자기소개 하기\n",
    "\n",
    "name = \"안태현\"\n",
    "age = \"27\"\n",
    "mbti = \"INTP\"\n",
    "\n",
    "print(f\"\"\"안녕하세요,\n",
    "제 이름은 {name}이고,\n",
    "{age}살입니다.\n",
    "제 MBTI는 {mbti}에요.\n",
    "\"\"\")"
   ]
  }
 ],
 "metadata": {
  "kernelspec": {
   "display_name": "python-study",
   "language": "python",
   "name": "python3"
  },
  "language_info": {
   "codemirror_mode": {
    "name": "ipython",
    "version": 3
   },
   "file_extension": ".py",
   "mimetype": "text/x-python",
   "name": "python",
   "nbconvert_exporter": "python",
   "pygments_lexer": "ipython3",
   "version": "3.13.5"
  }
 },
 "nbformat": 4,
 "nbformat_minor": 5
}
