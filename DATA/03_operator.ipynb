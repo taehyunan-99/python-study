{
 "cells": [
  {
   "cell_type": "markdown",
   "id": "9162c57c",
   "metadata": {},
   "source": [
    "## 연산자\n",
    "- 연산자 (Operator) : 값과 값 사이에 연산을 수행하는 기호\n",
    "- 항 (Operand) : 연산의 대상이 되는 값\n",
    "\n",
    "### 연산자의 종류\n",
    "1. 산술 연산자\n",
    "2. 비교 연산자\n",
    "3. 논리 연산자\n",
    "4. 대입 연산자"
   ]
  },
  {
   "cell_type": "markdown",
   "id": "19e115a5",
   "metadata": {},
   "source": [
    "### 1. 산술 연산자\n",
    "- 사칙연산을 포함한 수학 연산(계산) 수행\n",
    "    - +, -, *, /, //, %, **\n",
    "\n",
    "### 2. 비교 연산자\n",
    "- 두 값을 비교하는 연산 수행\n",
    "- 계산 결과 True 또는 False를 반환\n",
    "    - ==, !=, >, <, >=, <=\n",
    "\n",
    "### 3. 논리 연산자\n",
    "- 논리에 대한 연산을 수행\n",
    "- True, False에 대한 연산을 수행\n",
    "    - and, or, not"
   ]
  },
  {
   "cell_type": "code",
   "execution_count": null,
   "id": "6297ea51",
   "metadata": {},
   "outputs": [],
   "source": [
    "# 산술 연산자\n",
    "\n",
    "print(\"더하기\", 10 + 3)\n",
    "print(\"빼기\", 10 - 3)\n",
    "print(\"곱하기\", 10 * 3)\n",
    "print(\"나누기\", 10 / 3)\n",
    "print(\"몫\", 10 // 3)\n",
    "print(\"나머지\", 10 % 3)\n",
    "print(\"거듭제곱\", 10 ** 3)"
   ]
  },
  {
   "cell_type": "code",
   "execution_count": null,
   "id": "60a3f36f",
   "metadata": {},
   "outputs": [],
   "source": [
    "# 변수와 산술 연산\n",
    "# 반복되는 항이 있다면 변수로 처리\n",
    "\n",
    "a = 20\n",
    "b = 9\n",
    "print(\"더하기\", a + b)\n",
    "print(\"빼기\", a - b)\n",
    "print(\"곱하기\", a * b)\n",
    "print(\"나누기\", a / b)\n",
    "print(\"몫\", a // b)\n",
    "print(\"나머지\", a % b)\n",
    "print(\"거듭제곱\", a ** b)"
   ]
  },
  {
   "cell_type": "code",
   "execution_count": null,
   "id": "497b939e",
   "metadata": {},
   "outputs": [],
   "source": [
    "# 변수의 값을 변경\n",
    "x = 10\n",
    "\n",
    "# x에 5를 더하고 싶다면?\n",
    "x = x + 5\n",
    "\n",
    "# x에서 10을 빼고 싶다면?\n",
    "x = x - 10\n",
    "\n",
    "# x에 두배를 해주고 싶다면?\n",
    "x = x * 2\n",
    "\n",
    "# 결과값 출력\n",
    "print(x)"
   ]
  },
  {
   "cell_type": "code",
   "execution_count": null,
   "id": "0eab0e8b",
   "metadata": {},
   "outputs": [],
   "source": [
    "# 복합 대입 연산자 : 변수에 자기 자신에 대한 연산 결과를 다시 저장할 때 사용\n",
    "\n",
    "# 변수의 값을 변경\n",
    "x = 10\n",
    "\n",
    "# x에 5를 더하고 싶다면?\n",
    "x += 5\n",
    "\n",
    "# x에서 10을 빼고 싶다면?\n",
    "x -= 10\n",
    "\n",
    "# x에 두배를 해주고 싶다면?\n",
    "x *= 2\n",
    "\n",
    "# x를 5로 나누고 싶다면?\n",
    "x /= 5\n",
    "\n",
    "# 결과값 출력\n",
    "print(x)"
   ]
  },
  {
   "cell_type": "code",
   "execution_count": null,
   "id": "12c6340d",
   "metadata": {},
   "outputs": [],
   "source": [
    "# 실습 1) 대학생의 용돈 관리\n",
    "\n",
    "money = 30\n",
    "money -= 8\n",
    "money -= 0.9 * 5\n",
    "money += 12\n",
    "money *= 1.2\n",
    "money *= 2/3\n",
    "\n",
    "print(f\"남은 금액은 {money}만원 입니다.\")"
   ]
  },
  {
   "cell_type": "code",
   "execution_count": 20,
   "id": "713dd844",
   "metadata": {},
   "outputs": [
    {
     "name": "stdout",
     "output_type": "stream",
     "text": [
      "taehyun an\n"
     ]
    }
   ],
   "source": [
    "# 문자열 연산 (산술 연산)\n",
    "# + : 문자열의 겹합(연결)\n",
    "# print(100 + 200)\n",
    "# print(\"100\" + \"200\")\n",
    "\n",
    "# 문자열과 정수의 더하기 연산은 불가능\n",
    "# print(\"100\" + 200)\n",
    "\n",
    "first_name = \"taehyun\"\n",
    "last_name = \"an\"\n",
    "full_name = first_name + \" \" + last_name\n",
    "print(full_name)"
   ]
  },
  {
   "cell_type": "code",
   "execution_count": 21,
   "id": "8dd979e5",
   "metadata": {},
   "outputs": [
    {
     "name": "stdout",
     "output_type": "stream",
     "text": [
      "안녕안녕안녕\n"
     ]
    }
   ],
   "source": [
    "# * : 문자열의 반복\n",
    "\n",
    "인사 = \"안녕\"\n",
    "print(인사 * 3)"
   ]
  },
  {
   "cell_type": "code",
   "execution_count": null,
   "id": "206d38c7",
   "metadata": {},
   "outputs": [],
   "source": [
    "# 지원하지 않는 문자열 연산\n",
    "print(\"안녕하세요\" / 5)\n",
    "print(\"안녕하세요\" - \"하세요\")"
   ]
  },
  {
   "cell_type": "code",
   "execution_count": null,
   "id": "bda81afe",
   "metadata": {},
   "outputs": [
    {
     "name": "stdout",
     "output_type": "stream",
     "text": [
      "둠칫두둠칫두둠칫두둠칫\n"
     ]
    }
   ],
   "source": [
    "# 실습 2) EDM 리듬 트랙 만들기\n",
    "\n",
    "intro = \"둠칫\"\n",
    "drop = \"두둠칫\"\n",
    "\n",
    "print(intro + (drop * 3))"
   ]
  }
 ],
 "metadata": {
  "kernelspec": {
   "display_name": "python-study",
   "language": "python",
   "name": "python3"
  },
  "language_info": {
   "codemirror_mode": {
    "name": "ipython",
    "version": 3
   },
   "file_extension": ".py",
   "mimetype": "text/x-python",
   "name": "python",
   "nbconvert_exporter": "python",
   "pygments_lexer": "ipython3",
   "version": "3.13.5"
  }
 },
 "nbformat": 4,
 "nbformat_minor": 5
}
